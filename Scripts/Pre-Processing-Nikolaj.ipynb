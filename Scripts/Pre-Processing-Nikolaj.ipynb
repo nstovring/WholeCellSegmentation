{
 "cells": [
  {
   "cell_type": "markdown",
   "source": [
    "### Import and Load Images"
   ],
   "metadata": {
    "collapsed": false
   }
  },
  {
   "cell_type": "code",
   "execution_count": 1,
   "outputs": [
    {
     "name": "stdout",
     "output_type": "stream",
     "text": [
      "in init\n"
     ]
    }
   ],
   "source": [
    "import numpy as np\n",
    "import cv2\n",
    "import  matplotlib.pyplot as plt\n",
    "import os\n",
    "import sys\n",
    "sys.path.append('../Scripts/')\n",
    "from Scripts.Utility import Utility2\n",
    "ut = Utility2()\n",
    "\n",
    "root_dir = os.path.abspath(\"../\")\n",
    "imagePath = \"/Input/Images\""
   ],
   "metadata": {
    "collapsed": false,
    "pycharm": {
     "name": "#%%\n"
    }
   }
  },
  {
   "cell_type": "code",
   "execution_count": 2,
   "outputs": [],
   "source": [
    "images = ut.loadImages(imagePath)\n",
    "#ut.showImages(images, scale=(500,500))"
   ],
   "metadata": {
    "collapsed": false,
    "pycharm": {
     "name": "#%%\n"
    }
   }
  },
  {
   "cell_type": "markdown",
   "source": [
    "### Apply processing\n",
    "1. Gabor\n",
    "2. Histogram Equalization\n",
    "3. Median Smooth"
   ],
   "metadata": {
    "collapsed": false
   }
  },
  {
   "cell_type": "code",
   "execution_count": 3,
   "outputs": [],
   "source": [
    "smoothed_eq_img_arr, smt_arr, f_img, f_values = ut.processImage(images[0])#ut.load_and_process_image(\"/Input/Images/--W00001--P00004--Z00000--T00000--BFP.tif\")\n",
    "smoothed_eq_img_arr1, smt_arr1, f_img1, f_values1 = ut.processImage(images[1])#ut.load_and_process_image(\"/Input/Images/--W00001--P00004--Z00000--T00000--DsRed.tif\")\n",
    "smoothed_eq_img_arr2, smt_arr2, f_img2, f_values2 = ut.processImage(images[2])#ut.load_and_process_image(\"/Input/Images/--W00001--P00004--Z00000--T00000--eGFP.tif\")\n",
    "smoothed_eq_img_arr3, smt_arr3, f_img3, f_values3 = ut.processImage(images[3])#ut.load_and_process_image(\"/Input/Images/--W00001--P00004--Z00000--T00000--miRFP.tif\")"
   ],
   "metadata": {
    "collapsed": false,
    "pycharm": {
     "name": "#%%\n"
    }
   }
  },
  {
   "cell_type": "code",
   "execution_count": 4,
   "outputs": [],
   "source": [
    "pairs = ut.pairs_from_array(smoothed_eq_img_arr, smt_arr)\n",
    "#ut.showImages(pairs, scale=(1000,500))\n",
    "#ut.writeImages(pairs, path=\"../ImageWrite\")"
   ],
   "metadata": {
    "collapsed": false,
    "pycharm": {
     "name": "#%%\n"
    }
   }
  },
  {
   "cell_type": "markdown",
   "source": [
    "### Merge Processed Images (Single Pair)\n",
    "Gamma = 0.25\n",
    "\n",
    "Theta = pi/4 && 3*pi/4"
   ],
   "metadata": {
    "collapsed": false
   }
  },
  {
   "cell_type": "code",
   "execution_count": 5,
   "outputs": [],
   "source": [
    "#smts = [smoothed_eq_img_arr,smoothed_eq_img_arr1, smoothed_eq_img_arr2,smoothed_eq_img_arr3]\n",
    "#mergedImages = ut.mergeImages(smts, 0,3, 0.5)\n",
    "\n",
    "mergedImage  = cv2.addWeighted(smoothed_eq_img_arr[1], 0.5, smoothed_eq_img_arr[5], .5, 0)\n",
    "mergedImage1  = cv2.addWeighted(smoothed_eq_img_arr1[1], 0.5, smoothed_eq_img_arr1[5], .5, 0)\n",
    "mergedImage2  = cv2.addWeighted(smoothed_eq_img_arr2[1], 0.5, smoothed_eq_img_arr2[5], .5, 0)\n",
    "mergedImage3  = cv2.addWeighted(smoothed_eq_img_arr3[1], 0.5, smoothed_eq_img_arr3[5], .5, 0)\n",
    "#cv2.imshow(str(\"mergedImage\"), mergedImage)\n",
    "#cv2.waitKey(0)\n",
    "#cv2.destroyAllWindows()\n",
    "#ut.showImages(smoothed_eq_img_arr, scale=(500,500))"
   ],
   "metadata": {
    "collapsed": false,
    "pycharm": {
     "name": "#%%\n"
    }
   }
  },
  {
   "cell_type": "markdown",
   "source": [
    "### Watershed Process"
   ],
   "metadata": {
    "collapsed": false
   }
  },
  {
   "cell_type": "code",
   "execution_count": 7,
   "outputs": [],
   "source": [
    "MergedImages = [mergedImage, mergedImage1, mergedImage2, mergedImage3]\n",
    "GrayMergedArr = ut.grayscaleImages(MergedImages)\n",
    "\n",
    "ThresholdArr = ut.thresholdImages(GrayMergedArr)\n",
    "KmeansApplied = ut.kmeansOutImages(MergedImages, 5)\n",
    "output, markers = ut.waterShedImages(KmeansApplied)\n",
    "\n",
    "\n",
    "ut.showImages(output, scale=(500,500))\n",
    "\n",
    "#GrayMerged = cv2.cvtColor(mergedImage,cv2.COLOR_BGR2GRAY)\n",
    "#GrayMerged1 = cv2.cvtColor(mergedImage1,cv2.COLOR_BGR2GRAY)\n",
    "#GrayMerged2 = cv2.cvtColor(mergedImage2,cv2.COLOR_BGR2GRAY)\n",
    "#GrayMerged3 = cv2.cvtColor(mergedImage3,cv2.COLOR_BGR2GRAY)\n",
    "#ret, thresh = cv2.threshold(GrayMerged,0,255,cv2.THRESH_BINARY_INV+cv2.THRESH_OTSU)\n",
    "#ret1, thresh1 = cv2.threshold(GrayMerged1,0,255,cv2.THRESH_BINARY_INV+cv2.THRESH_OTSU)\n",
    "#ret2, thresh2 = cv2.threshold(GrayMerged2,0,255,cv2.THRESH_BINARY_INV+cv2.THRESH_OTSU)\n",
    "#ret3, thresh3 = cv2.threshold(GrayMerged3,0,255,cv2.THRESH_BINARY_INV+cv2.THRESH_OTSU)\n",
    "\n"
   ],
   "metadata": {
    "collapsed": false,
    "pycharm": {
     "name": "#%%\n"
    }
   }
  }
 ],
 "metadata": {
  "kernelspec": {
   "display_name": "Python 3",
   "language": "python",
   "name": "python3"
  },
  "language_info": {
   "codemirror_mode": {
    "name": "ipython",
    "version": 2
   },
   "file_extension": ".py",
   "mimetype": "text/x-python",
   "name": "python",
   "nbconvert_exporter": "python",
   "pygments_lexer": "ipython2",
   "version": "2.7.6"
  }
 },
 "nbformat": 4,
 "nbformat_minor": 0
}