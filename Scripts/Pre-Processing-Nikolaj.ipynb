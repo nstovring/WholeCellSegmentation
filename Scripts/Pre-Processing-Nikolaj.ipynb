{
 "cells": [
  {
   "cell_type": "markdown",
   "source": [
    "### Import and Load Images"
   ],
   "metadata": {
    "collapsed": false
   }
  },
  {
   "cell_type": "code",
   "execution_count": 9,
   "outputs": [
    {
     "name": "stdout",
     "output_type": "stream",
     "text": [
      "in init\n"
     ]
    }
   ],
   "source": [
    "import numpy as np\n",
    "import cv2\n",
    "import  matplotlib.pyplot as plt\n",
    "import os\n",
    "import sys\n",
    "sys.path.append('../Scripts/')\n",
    "from Scripts.Utility import Utility2\n",
    "ut = Utility2()\n",
    "\n",
    "root_dir = os.path.abspath(\"../\")\n",
    "imagePath = \"/Input/Images\""
   ],
   "metadata": {
    "collapsed": false,
    "pycharm": {
     "name": "#%%\n"
    }
   }
  },
  {
   "cell_type": "code",
   "execution_count": 21,
   "outputs": [],
   "source": [
    "images = ut.loadImages(imagePath)\n",
    "ut.showImages([ut.h_concatenate_images(images)], scale=(500,500))\n",
    "ut.writeImages([ut.h_concatenate_images(images)], prefix=\"concatInit\")\n",
    "#transmitted, channels = ut.loadImages(imagePath)\n",
    "\n",
    "#ut.writeImages(ut.h_concatenate_images(images))\n",
    "#ut.showImages(transmitted, scale=(500,500))\n",
    "#ut.showImages(channels, scale=(500,500))"
   ],
   "metadata": {
    "collapsed": false,
    "pycharm": {
     "name": "#%%\n"
    }
   }
  },
  {
   "cell_type": "markdown",
   "source": [
    "### Apply processing\n",
    "1. Gabor\n",
    "2. Histogram Equalization\n",
    "3. Median Smooth"
   ],
   "metadata": {
    "collapsed": false
   }
  },
  {
   "cell_type": "code",
   "execution_count": 19,
   "outputs": [
    {
     "ename": "KeyboardInterrupt",
     "evalue": "",
     "output_type": "error",
     "traceback": [
      "\u001B[1;31m---------------------------------------------------------------------------\u001B[0m",
      "\u001B[1;31mKeyboardInterrupt\u001B[0m                         Traceback (most recent call last)",
      "\u001B[1;32m<ipython-input-19-e1815225f046>\u001B[0m in \u001B[0;36m<module>\u001B[1;34m\u001B[0m\n\u001B[0;32m      4\u001B[0m \u001B[1;33m\u001B[0m\u001B[0m\n\u001B[0;32m      5\u001B[0m \u001B[1;32mfor\u001B[0m \u001B[0mimage\u001B[0m \u001B[1;32min\u001B[0m \u001B[0mimages\u001B[0m\u001B[1;33m:\u001B[0m\u001B[1;33m\u001B[0m\u001B[1;33m\u001B[0m\u001B[0m\n\u001B[1;32m----> 6\u001B[1;33m     \u001B[0msmoothed_eq_img_arr\u001B[0m\u001B[1;33m,\u001B[0m \u001B[0msmt_arr\u001B[0m\u001B[1;33m,\u001B[0m \u001B[0mf_img\u001B[0m\u001B[1;33m,\u001B[0m \u001B[0mf_values\u001B[0m \u001B[1;33m=\u001B[0m \u001B[0mut\u001B[0m\u001B[1;33m.\u001B[0m\u001B[0mprocessImage\u001B[0m\u001B[1;33m(\u001B[0m\u001B[0mimage\u001B[0m\u001B[1;33m)\u001B[0m\u001B[1;33m\u001B[0m\u001B[1;33m\u001B[0m\u001B[0m\n\u001B[0m\u001B[0;32m      7\u001B[0m     \u001B[0mprocessOutput\u001B[0m\u001B[1;33m.\u001B[0m\u001B[0mappend\u001B[0m\u001B[1;33m(\u001B[0m\u001B[0msmoothed_eq_img_arr\u001B[0m\u001B[1;33m)\u001B[0m\u001B[1;33m\u001B[0m\u001B[1;33m\u001B[0m\u001B[0m\n\u001B[0;32m      8\u001B[0m     \u001B[0mfinalImages\u001B[0m\u001B[1;33m.\u001B[0m\u001B[0mappend\u001B[0m\u001B[1;33m(\u001B[0m\u001B[0mf_img\u001B[0m\u001B[1;33m)\u001B[0m\u001B[1;33m\u001B[0m\u001B[1;33m\u001B[0m\u001B[0m\n",
      "\u001B[1;32m~\\Documents\\GitHub\\WholeCellSegmentation\\Scripts\\Utility.py\u001B[0m in \u001B[0;36mprocessImage\u001B[1;34m(self, image)\u001B[0m\n\u001B[0;32m     47\u001B[0m             \u001B[0mn\u001B[0m \u001B[1;33m=\u001B[0m \u001B[1;36m13\u001B[0m\u001B[1;33m;\u001B[0m  \u001B[1;31m# where n*n is the size of filter\u001B[0m\u001B[1;33m\u001B[0m\u001B[1;33m\u001B[0m\u001B[0m\n\u001B[0;32m     48\u001B[0m             \u001B[0msmoothed_image\u001B[0m \u001B[1;33m=\u001B[0m \u001B[0mcv2\u001B[0m\u001B[1;33m.\u001B[0m\u001B[0mmedianBlur\u001B[0m\u001B[1;33m(\u001B[0m\u001B[0mfimg\u001B[0m\u001B[1;33m,\u001B[0m \u001B[0mn\u001B[0m\u001B[1;33m)\u001B[0m\u001B[1;33m\u001B[0m\u001B[1;33m\u001B[0m\u001B[0m\n\u001B[1;32m---> 49\u001B[1;33m             \u001B[0msmoothImages\u001B[0m\u001B[1;33m.\u001B[0m\u001B[0mappend\u001B[0m\u001B[1;33m(\u001B[0m\u001B[0msmoothed_image\u001B[0m\u001B[1;33m)\u001B[0m\u001B[1;33m\u001B[0m\u001B[1;33m\u001B[0m\u001B[0m\n\u001B[0m\u001B[0;32m     50\u001B[0m             \u001B[0mmg_eq\u001B[0m \u001B[1;33m=\u001B[0m \u001B[0mself\u001B[0m\u001B[1;33m.\u001B[0m\u001B[0mhistogram_equalization\u001B[0m\u001B[1;33m(\u001B[0m\u001B[0msmoothed_image\u001B[0m\u001B[1;33m)\u001B[0m\u001B[1;33m\u001B[0m\u001B[1;33m\u001B[0m\u001B[0m\n\u001B[0;32m     51\u001B[0m \u001B[1;33m\u001B[0m\u001B[0m\n",
      "\u001B[1;31mKeyboardInterrupt\u001B[0m: "
     ]
    }
   ],
   "source": [
    "processOutput = []\n",
    "finalImages = []\n",
    "\n",
    "\n",
    "for image in images:\n",
    "    smoothed_eq_img_arr, smt_arr, f_img, f_values = ut.processImage(image)\n",
    "    processOutput.append(smoothed_eq_img_arr)\n",
    "    finalImages.append(f_img)\n",
    "\n",
    "ut.showImages(images, scale=(500,500))\n",
    "#smoothed_eq_img_arr, smt_arr, f_img, f_values = ut.processImage(images[0])#ut.load_and_process_image(\"/Input/Images/--W00001--P00004--Z00000--T00000--BFP.tif\")\n",
    "#smoothed_eq_img_arr1, smt_arr1, f_img1, f_values1 = ut.processImage(images[1])#ut.load_and_process_image(\"/Input/Images/--W00001--P00004--Z00000--T00000--DsRed.tif\")\n",
    "#smoothed_eq_img_arr2, smt_arr2, f_img2, f_values2 = ut.processImage(images[2])#ut.load_and_process_image(\"/Input/Images/--W00001--P00004--Z00000--T00000--eGFP.tif\")\n",
    "#smoothed_eq_img_arr3, smt_arr3, f_img3, f_values3 = ut.processImage(images[3])#ut.load_and_process_image(\"/Input/Images/--W00001--P00004--Z00000--T00000--miRFP.tif\")"
   ],
   "metadata": {
    "collapsed": false,
    "pycharm": {
     "name": "#%%\n"
    }
   }
  },
  {
   "cell_type": "code",
   "execution_count": 17,
   "outputs": [],
   "source": [
    "#pairs = ut.pairs_from_array(smoothed_eq_img_arr, smt_arr)\n",
    "ut.showImages(processOutput[0], scale=(500,500))\n",
    "#ut.writeImages(pairs, path=\"../ImageWrite\")"
   ],
   "metadata": {
    "collapsed": false,
    "pycharm": {
     "name": "#%%\n"
    }
   }
  },
  {
   "cell_type": "markdown",
   "source": [
    "### Merge Processed Images (Single Pair)\n",
    "Gamma = 0.25\n",
    "\n",
    "Theta = pi/4 && 3*pi/4\n",
    "\n",
    "From index 1 and 5 of processed images"
   ],
   "metadata": {
    "collapsed": false,
    "pycharm": {
     "name": "#%% md\n"
    }
   }
  },
  {
   "cell_type": "code",
   "execution_count": 13,
   "outputs": [],
   "source": [
    "#smts = [smoothed_eq_img_arr,smoothed_eq_img_arr1, smoothed_eq_img_arr2,smoothed_eq_img_arr3]\n",
    "#mergedImages = ut.mergeImages(smts, 0,3, 0.5)\n",
    "mergedImages = []\n",
    "\n",
    "for x in processOutput:\n",
    "    mergedImage =  cv2.addWeighted(x[1], 0.5, x[5], .5, 0)\n",
    "    mergedImages.append(mergedImage)\n",
    "    \n"
   ],
   "metadata": {
    "collapsed": false,
    "pycharm": {
     "name": "#%%\n"
    }
   }
  },
  {
   "cell_type": "markdown",
   "source": [
    "### Watershed Process"
   ],
   "metadata": {
    "collapsed": false,
    "pycharm": {
     "name": "#%% md\n"
    }
   }
  },
  {
   "cell_type": "code",
   "execution_count": 14,
   "outputs": [],
   "source": [
    "#mergedImages = [mergedImage, mergedImage1, mergedImage2, mergedImage3]\n",
    "GrayMergedArr = ut.grayscaleImages(mergedImages)\n",
    "\n",
    "ThresholdArr = ut.thresholdImages(GrayMergedArr)\n",
    "#ut.showImages(ThresholdArr, scale=(500,500))\n",
    "kmeansApplied = ut.kmeansOutImages(mergedImages, 5)"
   ],
   "metadata": {
    "collapsed": false,
    "pycharm": {
     "name": "#%%\n"
    }
   }
  },
  {
   "cell_type": "code",
   "execution_count": 15,
   "outputs": [],
   "source": [
    "ut.showImages(kmeansApplied, scale=(500,500))"
   ],
   "metadata": {
    "collapsed": false,
    "pycharm": {
     "name": "#%%\n"
    }
   }
  },
  {
   "cell_type": "code",
   "execution_count": 16,
   "outputs": [
    {
     "ename": "error",
     "evalue": "OpenCV(4.0.1) C:\\ci\\opencv-suite_1573470242804\\work\\modules\\imgproc\\src\\distransform.cpp:724: error: (-215:Assertion failed) src.type() == CV_8UC1 in function 'cv::distanceTransform'\n",
     "output_type": "error",
     "traceback": [
      "\u001B[1;31m---------------------------------------------------------------------------\u001B[0m",
      "\u001B[1;31merror\u001B[0m                                     Traceback (most recent call last)",
      "\u001B[1;32m<ipython-input-16-a3f185e5db2a>\u001B[0m in \u001B[0;36m<module>\u001B[1;34m\u001B[0m\n\u001B[0;32m     24\u001B[0m \u001B[0mconnected\u001B[0m \u001B[1;33m=\u001B[0m \u001B[1;33m[\u001B[0m\u001B[1;33m]\u001B[0m\u001B[1;33m\u001B[0m\u001B[1;33m\u001B[0m\u001B[0m\n\u001B[0;32m     25\u001B[0m \u001B[1;32mfor\u001B[0m \u001B[0mx\u001B[0m \u001B[1;32min\u001B[0m \u001B[0mrange\u001B[0m\u001B[1;33m(\u001B[0m\u001B[0mlen\u001B[0m\u001B[1;33m(\u001B[0m\u001B[0mThresholdedKmeans\u001B[0m\u001B[1;33m)\u001B[0m\u001B[1;33m)\u001B[0m\u001B[1;33m:\u001B[0m\u001B[1;33m\u001B[0m\u001B[1;33m\u001B[0m\u001B[0m\n\u001B[1;32m---> 26\u001B[1;33m     \u001B[0mnum\u001B[0m\u001B[1;33m,\u001B[0m \u001B[0mmarkers\u001B[0m \u001B[1;33m=\u001B[0m \u001B[0mut\u001B[0m\u001B[1;33m.\u001B[0m\u001B[0mwaterShedImages\u001B[0m\u001B[1;33m(\u001B[0m\u001B[1;33m[\u001B[0m\u001B[0mThresholdedKmeans\u001B[0m\u001B[1;33m[\u001B[0m\u001B[0mx\u001B[0m\u001B[1;33m]\u001B[0m\u001B[1;33m]\u001B[0m\u001B[1;33m)\u001B[0m\u001B[1;33m\u001B[0m\u001B[1;33m\u001B[0m\u001B[0m\n\u001B[0m\u001B[0;32m     27\u001B[0m     \u001B[0mconnected\u001B[0m\u001B[1;33m.\u001B[0m\u001B[0mappend\u001B[0m\u001B[1;33m(\u001B[0m\u001B[0mmarkers\u001B[0m\u001B[1;33m)\u001B[0m\u001B[1;33m\u001B[0m\u001B[1;33m\u001B[0m\u001B[0m\n\u001B[0;32m     28\u001B[0m \u001B[1;33m\u001B[0m\u001B[0m\n",
      "\u001B[1;32m~\\Documents\\GitHub\\WholeCellSegmentation\\Scripts\\Utility.py\u001B[0m in \u001B[0;36mwaterShedImages\u001B[1;34m(self, images, processed)\u001B[0m\n\u001B[0;32m    306\u001B[0m         \u001B[1;32mfor\u001B[0m \u001B[0mx\u001B[0m \u001B[1;32min\u001B[0m \u001B[0mrange\u001B[0m\u001B[1;33m(\u001B[0m\u001B[0mlen\u001B[0m\u001B[1;33m(\u001B[0m\u001B[0mimages\u001B[0m\u001B[1;33m)\u001B[0m\u001B[1;33m)\u001B[0m\u001B[1;33m:\u001B[0m\u001B[1;33m\u001B[0m\u001B[1;33m\u001B[0m\u001B[0m\n\u001B[0;32m    307\u001B[0m             \u001B[1;31m# Finding sure foreground area\u001B[0m\u001B[1;33m\u001B[0m\u001B[1;33m\u001B[0m\u001B[1;33m\u001B[0m\u001B[0m\n\u001B[1;32m--> 308\u001B[1;33m             \u001B[0mdist_transform\u001B[0m \u001B[1;33m=\u001B[0m \u001B[0mcv2\u001B[0m\u001B[1;33m.\u001B[0m\u001B[0mdistanceTransform\u001B[0m\u001B[1;33m(\u001B[0m\u001B[0mopenings\u001B[0m\u001B[1;33m[\u001B[0m\u001B[0mx\u001B[0m\u001B[1;33m]\u001B[0m\u001B[1;33m,\u001B[0m \u001B[0mcv2\u001B[0m\u001B[1;33m.\u001B[0m\u001B[0mDIST_L2\u001B[0m\u001B[1;33m,\u001B[0m \u001B[1;36m5\u001B[0m\u001B[1;33m)\u001B[0m\u001B[1;33m\u001B[0m\u001B[1;33m\u001B[0m\u001B[0m\n\u001B[0m\u001B[0;32m    309\u001B[0m             \u001B[0mdist_transform\u001B[0m \u001B[1;33m=\u001B[0m \u001B[0mcv2\u001B[0m\u001B[1;33m.\u001B[0m\u001B[0mnormalize\u001B[0m\u001B[1;33m(\u001B[0m\u001B[0mdist_transform\u001B[0m\u001B[1;33m,\u001B[0m \u001B[0mdist_transform\u001B[0m\u001B[1;33m,\u001B[0m \u001B[1;36m0\u001B[0m\u001B[1;33m,\u001B[0m \u001B[1;36m1.0\u001B[0m\u001B[1;33m,\u001B[0m \u001B[0mcv2\u001B[0m\u001B[1;33m.\u001B[0m\u001B[0mNORM_MINMAX\u001B[0m\u001B[1;33m)\u001B[0m\u001B[1;33m\u001B[0m\u001B[1;33m\u001B[0m\u001B[0m\n\u001B[0;32m    310\u001B[0m             \u001B[0mret\u001B[0m\u001B[1;33m,\u001B[0m \u001B[0msure_fg\u001B[0m \u001B[1;33m=\u001B[0m \u001B[0mcv2\u001B[0m\u001B[1;33m.\u001B[0m\u001B[0mthreshold\u001B[0m\u001B[1;33m(\u001B[0m\u001B[0mdist_transform\u001B[0m\u001B[1;33m,\u001B[0m \u001B[1;36m0.1\u001B[0m \u001B[1;33m*\u001B[0m \u001B[0mdist_transform\u001B[0m\u001B[1;33m.\u001B[0m\u001B[0mmax\u001B[0m\u001B[1;33m(\u001B[0m\u001B[1;33m)\u001B[0m\u001B[1;33m,\u001B[0m \u001B[1;36m255\u001B[0m\u001B[1;33m,\u001B[0m \u001B[1;36m0\u001B[0m\u001B[1;33m)\u001B[0m\u001B[1;33m\u001B[0m\u001B[1;33m\u001B[0m\u001B[0m\n",
      "\u001B[1;31merror\u001B[0m: OpenCV(4.0.1) C:\\ci\\opencv-suite_1573470242804\\work\\modules\\imgproc\\src\\distransform.cpp:724: error: (-215:Assertion failed) src.type() == CV_8UC1 in function 'cv::distanceTransform'\n"
     ]
    },
    {
     "data": {
      "text/plain": "<Figure size 1440x1440 with 4 Axes>",
      "image/png": "[encoded data removed]"
     },
     "metadata": {
      "needs_background": "light"
     },
     "output_type": "display_data"
    }
   ],
   "source": [
    "ThresholdedKmeans =[]#ut.thresholdImages(GrayMergedArr, minval=191, maxval=255, invert=1)\n",
    "for x in range(len(kmeansApplied)):\n",
    "    ret, thresh =  cv2.threshold(kmeansApplied[x], 191, 255, cv2.THRESH_BINARY)\n",
    "    ThresholdedKmeans.append(thresh)\n",
    "\n",
    "\n",
    "#GrayScaleKmeans = ut.grayscaleImages(kmeansApplied)\n",
    "ThresholdedKmeans.pop()\n",
    "ut.showImages(ThresholdedKmeans, scale=(500,500))\n",
    "\n",
    "#watershedKMean, markers = ut.waterShedImages(ThresholdedKmeans)\n",
    "\n",
    "fig, ax = plt.subplots(1,len(ThresholdedKmeans), figsize=(20,20))\n",
    "#connected = []\n",
    "#for x in range(len(ThresholdedKmeans)):\n",
    "#    num, markers = cv2.connectedComponents(ThresholdedKmeans[x])\n",
    "#    connected.append(markers)\n",
    "#\n",
    "#    ax[x].imshow(markers)\n",
    "#    ax[x].set_title(str(x))\n",
    "#\n",
    "#fig, ax = plt.subplots(1,len(ThresholdedKmeans), figsize=(20,20))\n",
    "\n",
    "connected = []\n",
    "for x in range(len(ThresholdedKmeans)):\n",
    "    num, markers = ut.waterShedImages([ThresholdedKmeans[x]])\n",
    "    connected.append(markers)\n",
    "\n",
    "    ax[x].imshow(markers)\n",
    "    ax[x].set_title(str(x))\n",
    "\n",
    "\n",
    "print(\"Something?\")"
   ],
   "metadata": {
    "collapsed": false,
    "pycharm": {
     "name": "#%%\n"
    }
   }
  },
  {
   "cell_type": "code",
   "execution_count": null,
   "outputs": [],
   "source": [
    "#plt.imshow(markers)\n",
    "\n",
    "\n",
    "#ut.writeImages(watershedKMean, \"watershedkmeansthresh\")\n",
    "#ut.showImages(watershedKMean,scale=(500,500))\n",
    "\n",
    "singleImage = ut.pairMerge(ThresholdedKmeans)\n",
    "\n",
    "\n",
    "\n",
    "ut.showImages([singleImage], scale=(500,500))\n",
    "\n",
    "#histSingleImage  = ut.histogram_equalization(singleImage)\n",
    "\n",
    "#ut.showImages([histSingleImage,singleImage], scale=(500,500))\n",
    "\n",
    "#ut.writeImages([histSingleImage,singleImage])\n",
    "ret, thresh = cv2.threshold(singleImage, 128, 255, cv2.THRESH_BINARY)\n",
    "\n",
    "ut.showImages([singleImage,thresh], scale=(500,500))\n",
    "ut.writeImages([singleImage,thresh], \"ussigaci pair\")\n",
    "#ut.writeImages([singleImage,thresh],\"postMerge\", [\"singleImage\" , \"thresh\"] )\n",
    "\n",
    "#ThresholdedKmeans.append(thresh)\n",
    "\n",
    "\n",
    "print(np.shape(kmeansApplied))\n",
    "#pairs = ut.pairs_from_array(ThresholdedKmeans, kmeansApplied)\n",
    "#ut.showImages(pairs, scale=(500,500))\n",
    "\n",
    "#output, markers = ut.waterShedImages(kmeansApplied)\n",
    "\n",
    "\n",
    "#ut.showImages(output, scale=(500,500))\n"
   ],
   "metadata": {
    "collapsed": false,
    "pycharm": {
     "name": "#%%\n"
    }
   }
  },
  {
   "cell_type": "code",
   "execution_count": null,
   "outputs": [],
   "source": [
    "ThresholdedKmeans = []\n",
    "for x in range(len(kmeansApplied)):\n",
    "    ret, thresh = cv2.threshold(kmeansApplied[x], 191, 255, cv2.THRESH_BINARY)\n",
    "    ThresholdedKmeans.append(thresh)\n",
    "\n",
    "\n",
    "#GrayScaleKmeans = ut.grayscaleImages(kmeansApplied)\n",
    "ThresholdedKmeans.pop()\n",
    "ut.showImages(ThresholdedKmeans, scale=(500,500))\n",
    "\n",
    "singleImage = ut.pairMerge(ThresholdedKmeans)\n",
    "\n",
    "ut.showImages([singleImage], scale=(500,500))\n",
    "\n",
    "#histSingleImage  = ut.histogram_equalization(singleImage)\n",
    "\n",
    "#ut.showImages([histSingleImage,singleImage], scale=(500,500))\n",
    "\n",
    "#ut.writeImages([histSingleImage,singleImage])\n",
    "ret, thresh = cv2.threshold(singleImage, 128, 255, cv2.THRESH_BINARY)\n",
    "\n",
    "ut.showImages([singleImage,thresh], scale=(500,500))\n",
    "\n",
    "#ut.writeImages([singleImage,thresh],\"postMerge\", [\"singleImage\" , \"thresh\"] )\n",
    "\n",
    "#ThresholdedKmeans.append(thresh)\n",
    "\n",
    "\n",
    "print(np.shape(kmeansApplied))\n",
    "#pairs = ut.pairs_from_array(ThresholdedKmeans, kmeansApplied)\n",
    "#ut.showImages(pairs, scale=(500,500))\n",
    "\n",
    "#output, markers = ut.waterShedImages(kmeansApplied)\n",
    "\n",
    "\n",
    "#ut.showImages(output, scale=(500,500))\n"
   ],
   "metadata": {
    "collapsed": false,
    "pycharm": {
     "name": "#%%\n"
    }
   }
  }
 ],
 "metadata": {
  "kernelspec": {
   "name": "python3",
   "language": "python",
   "display_name": "Python 3"
  },
  "language_info": {
   "codemirror_mode": {
    "name": "ipython",
    "version": 2
   },
   "file_extension": ".py",
   "mimetype": "text/x-python",
   "name": "python",
   "nbconvert_exporter": "python",
   "pygments_lexer": "ipython2",
   "version": "2.7.6"
  }
 },
 "nbformat": 4,
 "nbformat_minor": 0
}