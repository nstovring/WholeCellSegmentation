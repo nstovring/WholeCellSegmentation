{
 "cells": [
  {
   "cell_type": "markdown",
   "source": [
    "### Import and Load Images"
   ],
   "metadata": {
    "collapsed": false
   }
  },
  {
   "cell_type": "code",
   "execution_count": 1,
   "outputs": [
    {
     "name": "stdout",
     "output_type": "stream",
     "text": [
      "in init\n"
     ]
    }
   ],
   "source": [
    "import numpy as np\n",
    "import cv2\n",
    "import  matplotlib.pyplot as plt\n",
    "import os\n",
    "import sys\n",
    "from tqdm import tqdm_notebook, tnrange\n",
    "import tqdm\n",
    "sys.path.append('../Scripts/')\n",
    "from Scripts.Utility import Utility2\n",
    "ut = Utility2()\n",
    "\n",
    "root_dir = os.path.abspath(\"../\")\n",
    "imagePath = r\"F:/CellImagesMed9/whole_cell_kb\" #\"/Input/Images\"\n",
    "dataimagePath = root_dir + \"/Data/Images/Fl\""
   ],
   "metadata": {
    "collapsed": false,
    "pycharm": {
     "name": "#%%\n"
    }
   }
  },
  {
   "cell_type": "code",
   "execution_count": 3,
   "outputs": [
    {
     "name": "stderr",
     "output_type": "stream",
     "text": [
      "C:\\anaconda\\envs\\ImageSegmentation\\lib\\site-packages\\ipykernel_launcher.py:5: TqdmDeprecationWarning: This function will be removed in tqdm==5.0.0\n",
      "Please use `tqdm.notebook.tqdm` instead of `tqdm.tqdm_notebook`\n",
      "  \"\"\"\n"
     ]
    },
    {
     "data": {
      "text/plain": "HBox(children=(FloatProgress(value=0.0, max=1440.0), HTML(value='')))",
      "application/vnd.jupyter.widget-view+json": {
       "version_major": 2,
       "version_minor": 0,
       "model_id": "223f9e6298ef4c369c88a3148740f9b9"
      }
     },
     "metadata": {},
     "output_type": "display_data"
    },
    {
     "name": "stdout",
     "output_type": "stream",
     "text": [
      "\n"
     ]
    }
   ],
   "source": [
    "import  tqdm\n",
    "def loadImages(path):\n",
    "    images = []\n",
    "    imagePaths = os.listdir(path)\n",
    "    for i, id_ in tqdm_notebook(enumerate(imagePaths),total=len(imagePaths)):\n",
    "        t = (i + 1)%5\n",
    "        p = (i + 1)% 15\n",
    "        if p == 0:\n",
    "            for j in range(4):\n",
    "                img = cv2.imread(path + \"/\" + imagePaths[i-j -1])\n",
    "        #img = cv2.imread(path + \"/\" + imagePaths[i])\n",
    "                images.append(img)\n",
    "    return images\n",
    "\n",
    "images = loadImages(imagePath)\n",
    "\n",
    "\n",
    "#ut.showImages(images, scale=(500,500))\n",
    "#transmitted, channels = ut.loadImages(imagePath)\n",
    "#ut.showImages(transmitted, scale=(500,500))\n",
    "#ut.showImages(channels, scale=(500,500))"
   ],
   "metadata": {
    "collapsed": false,
    "pycharm": {
     "name": "#%%\n"
    }
   }
  },
  {
   "cell_type": "markdown",
   "source": [
    "### Apply processing\n",
    "1. Gabor\n",
    "2. Histogram Equalization\n",
    "3. Median Smooth\n",
    "\n",
    "\n",
    "![Histogram Comparison](/ImageWrite/histogramComparison2.png \"Image\")"
   ],
   "metadata": {
    "collapsed": false
   }
  },
  {
   "cell_type": "code",
   "execution_count": 4,
   "outputs": [],
   "source": [
    "processOutput = []\n",
    "processOutputCLAHEeq = []\n",
    "processOutputBaseEq = []\n",
    "\n",
    "#for ii in tqdm.tqdm.\n",
    "for i, id_ in tqdm_notebook(enumerate(images),total=len(images)):\n",
    "#for image in images:\n",
    "    #smoothed_eq_img_arr, smt_arr, f_img, f_values = ut.processImage(image)\n",
    "\n",
    "    #processOutput.append(smoothed_eq_img_arr)\n",
    "\n",
    "\n",
    "    grayImg = ut.grayscaleImages([images[i]]) #([image])\n",
    "    baseeq = ut.grayscaleImages([ut.histogram_equalization(images[i])])\n",
    "\n",
    "    processOutputBaseEq.append(baseeq[0])\n",
    "\n",
    "    clahe = cv2.createCLAHE(clipLimit=3.0, tileGridSize=(8, 8))\n",
    "    mg_eq = clahe.apply(grayImg[i]) #0 instead of i before\n",
    "\n",
    "    processOutputCLAHEeq.append(mg_eq)\n",
    "\n",
    "ut.writeImages(processOutputCLAHEeq, path=\"../Input/Images/EqFluor\", prefix=\"fluorEqZ2_\", filetype=\".jpg\", scale=(2048,2048))\n",
    "\n",
    "\n",
    "\n",
    "\n",
    "#smoothed_eq_img_arr, smt_arr, f_img, f_values = ut.processImage(images[0])#ut.load_and_process_image(\"/Input/Images/--W00001--P00004--Z00000--T00000--BFP.tif\")\n",
    "#smoothed_eq_img_arr1, smt_arr1, f_img1, f_values1 = ut.processImage(images[1])#ut.load_and_process_image(\"/Input/Images/--W00001--P00004--Z00000--T00000--DsRed.tif\")\n",
    "#smoothed_eq_img_arr2, smt_arr2, f_img2, f_values2 = ut.processImage(images[2])#ut.load_and_process_image(\"/Input/Images/--W00001--P00004--Z00000--T00000--eGFP.tif\")\n",
    "#smoothed_eq_img_arr3, smt_arr3, f_img3, f_values3 = ut.processImage(images[3])#ut.load_and_process_image(\"/Input/Images/--W00001--P00004--Z00000--T00000--miRFP.tif\")\n",
    "\n",
    "\n",
    "\n",
    "\n",
    "#pairs = ut.pairs_from_array(processOutputCLAHEeq, processOutputBaseEq)\n",
    "#pairs = ut.pairs_from_array(ut.grayscaleImages(images), pairs)\n",
    "\n",
    "#ut.showImages(pairs, scale=(1500,500))"
   ],
   "metadata": {
    "collapsed": false,
    "pycharm": {
     "name": "#%%\n"
    }
   }
  },
  {
   "cell_type": "code",
   "execution_count": 25,
   "outputs": [
    {
     "name": "stdout",
     "output_type": "stream",
     "text": [
      "(2048, 2048, 3)\n",
      "(2048, 2048, 3)\n",
      "(2048, 2048, 3)\n",
      "(2048, 2048, 3)\n",
      "(2048, 2048, 3)\n"
     ]
    }
   ],
   "source": [
    "reshapedClahe = []\n",
    "\n",
    "for x in processOutputCLAHEeq:\n",
    "    V = [x,x,x]\n",
    "    I = cv2.merge(V)\n",
    "    reshapedClahe.append(I)\n",
    "    print(I.shape)\n"
   ],
   "metadata": {
    "collapsed": false,
    "pycharm": {
     "name": "#%%\n"
    }
   }
  },
  {
   "cell_type": "code",
   "execution_count": 28,
   "outputs": [],
   "source": [
    "kmean = ut.kmeansOutImages(reshapedClahe, kVal=3)\n",
    "\n",
    "ut.showImages(kmean, scale=(500,500))"
   ],
   "metadata": {
    "collapsed": false,
    "pycharm": {
     "name": "#%%%\n"
    }
   }
  },
  {
   "cell_type": "markdown",
   "source": [
    "### Apply Median Smoothing"
   ],
   "metadata": {
    "collapsed": false,
    "pycharm": {
     "name": "#%% md\n"
    }
   }
  },
  {
   "cell_type": "code",
   "execution_count": 13,
   "outputs": [],
   "source": [
    "medianSmoothed = ut.medianBlurImages(processOutputCLAHEeq)\n",
    "pairs = ut.pairs_from_array(processOutputCLAHEeq, medianSmoothed)\n",
    "\n",
    "\n",
    "ut.showImages(pairs, scale=(1000,500))"
   ],
   "metadata": {
    "collapsed": false,
    "pycharm": {
     "name": "#%%\n"
    }
   }
  },
  {
   "cell_type": "markdown",
   "source": [
    "### Merge Processed Images (Single Pair)\n",
    "Gamma = 0.25\n",
    "\n",
    "Theta = pi/4 && 3*pi/4\n",
    "\n",
    "From index 1 and 5 of processed images"
   ],
   "metadata": {
    "collapsed": false,
    "pycharm": {
     "name": "#%% md\n"
    }
   }
  },
  {
   "cell_type": "code",
   "execution_count": 8,
   "outputs": [
    {
     "ename": "error",
     "evalue": "OpenCV(4.4.0) C:\\Users\\appveyor\\AppData\\Local\\Temp\\1\\pip-req-build-52oirelq\\opencv\\modules\\core\\src\\matrix_operations.cpp:68: error: (-215:Assertion failed) src[i].dims <= 2 && src[i].rows == src[0].rows && src[i].type() == src[0].type() in function 'cv::hconcat'\n",
     "output_type": "error",
     "traceback": [
      "\u001B[1;31m---------------------------------------------------------------------------\u001B[0m",
      "\u001B[1;31merror\u001B[0m                                     Traceback (most recent call last)",
      "\u001B[1;32m<ipython-input-8-11ec85fd4ed3>\u001B[0m in \u001B[0;36m<module>\u001B[1;34m\u001B[0m\n\u001B[0;32m      9\u001B[0m \u001B[1;31m#ut.showImages(mergedImages, scale=(500,500))\u001B[0m\u001B[1;33m\u001B[0m\u001B[1;33m\u001B[0m\u001B[1;33m\u001B[0m\u001B[0m\n\u001B[0;32m     10\u001B[0m \u001B[1;33m\u001B[0m\u001B[0m\n\u001B[1;32m---> 11\u001B[1;33m \u001B[0mpairs\u001B[0m \u001B[1;33m=\u001B[0m \u001B[0mut\u001B[0m\u001B[1;33m.\u001B[0m\u001B[0mpairs_from_array\u001B[0m\u001B[1;33m(\u001B[0m\u001B[0mprocessOutputCLAHEeq\u001B[0m\u001B[1;33m,\u001B[0m \u001B[0mmergedImages\u001B[0m\u001B[1;33m)\u001B[0m\u001B[1;33m\u001B[0m\u001B[1;33m\u001B[0m\u001B[0m\n\u001B[0m\u001B[0;32m     12\u001B[0m \u001B[0mpairs\u001B[0m \u001B[1;33m=\u001B[0m \u001B[0mut\u001B[0m\u001B[1;33m.\u001B[0m\u001B[0mpairs_from_array\u001B[0m\u001B[1;33m(\u001B[0m\u001B[0mut\u001B[0m\u001B[1;33m.\u001B[0m\u001B[0mgrayscaleImages\u001B[0m\u001B[1;33m(\u001B[0m\u001B[0mimages\u001B[0m\u001B[1;33m)\u001B[0m\u001B[1;33m,\u001B[0m \u001B[0mpairs\u001B[0m\u001B[1;33m)\u001B[0m\u001B[1;33m\u001B[0m\u001B[1;33m\u001B[0m\u001B[0m\n\u001B[0;32m     13\u001B[0m \u001B[1;33m\u001B[0m\u001B[0m\n",
      "\u001B[1;32mE:\\GitHub\\WholeCellSegmentation\\Scripts\\Utility.py\u001B[0m in \u001B[0;36mpairs_from_array\u001B[1;34m(self, arr1, arr2)\u001B[0m\n\u001B[0;32m    201\u001B[0m             \u001B[1;31m##s2 = im2[:, width_cutoff:]\u001B[0m\u001B[1;33m\u001B[0m\u001B[1;33m\u001B[0m\u001B[1;33m\u001B[0m\u001B[0m\n\u001B[0;32m    202\u001B[0m \u001B[1;33m\u001B[0m\u001B[0m\n\u001B[1;32m--> 203\u001B[1;33m             \u001B[0m_img\u001B[0m \u001B[1;33m=\u001B[0m \u001B[0mcv2\u001B[0m\u001B[1;33m.\u001B[0m\u001B[0mhconcat\u001B[0m\u001B[1;33m(\u001B[0m\u001B[1;33m[\u001B[0m\u001B[0mim1\u001B[0m\u001B[1;33m,\u001B[0m\u001B[0mim2\u001B[0m\u001B[1;33m]\u001B[0m\u001B[1;33m)\u001B[0m\u001B[1;33m\u001B[0m\u001B[1;33m\u001B[0m\u001B[0m\n\u001B[0m\u001B[0;32m    204\u001B[0m             \u001B[0mout\u001B[0m\u001B[1;33m.\u001B[0m\u001B[0mappend\u001B[0m\u001B[1;33m(\u001B[0m\u001B[0m_img\u001B[0m\u001B[1;33m)\u001B[0m\u001B[1;33m\u001B[0m\u001B[1;33m\u001B[0m\u001B[0m\n\u001B[0;32m    205\u001B[0m         \u001B[1;32mreturn\u001B[0m \u001B[0mout\u001B[0m\u001B[1;33m\u001B[0m\u001B[1;33m\u001B[0m\u001B[0m\n",
      "\u001B[1;31merror\u001B[0m: OpenCV(4.4.0) C:\\Users\\appveyor\\AppData\\Local\\Temp\\1\\pip-req-build-52oirelq\\opencv\\modules\\core\\src\\matrix_operations.cpp:68: error: (-215:Assertion failed) src[i].dims <= 2 && src[i].rows == src[0].rows && src[i].type() == src[0].type() in function 'cv::hconcat'\n"
     ]
    }
   ],
   "source": [
    "#smts = [smoothed_eq_img_arr,smoothed_eq_img_arr1, smoothed_eq_img_arr2,smoothed_eq_img_arr3]\n",
    "#mergedImages = ut.mergeImages(smts, 0,3, 0.5)\n",
    "mergedImages = []\n",
    "\n",
    "for x in processOutput:\n",
    "    mergedImage = cv2.addWeighted(x[1], 0.5, x[5], .5, 0)\n",
    "    mergedImages.append(mergedImage)\n",
    "    \n",
    "#ut.showImages(mergedImages, scale=(500,500))\n",
    "\n",
    "pairs = ut.pairs_from_array(processOutputCLAHEeq, mergedImages)\n",
    "pairs = ut.pairs_from_array(ut.grayscaleImages(images), pairs)\n",
    "\n",
    "ut.showImages(pairs, scale=(1500,500))\n"
   ],
   "metadata": {
    "collapsed": false,
    "pycharm": {
     "name": "#%%\n"
    }
   }
  },
  {
   "cell_type": "markdown",
   "source": [
    "### Watershed Process"
   ],
   "metadata": {
    "collapsed": false,
    "pycharm": {
     "name": "#%% md\n"
    }
   }
  },
  {
   "cell_type": "code",
   "execution_count": 63,
   "outputs": [],
   "source": [
    "#mergedImages = [mergedImage, mergedImage1, mergedImage2, mergedImage3]\n",
    "#GrayMergedArr = ut.grayscaleImages(mergedImages)\n",
    "\n",
    "ThresholdArr = ut.thresholdImages(processOutputCLAHEeq, invert=False)\n",
    "pairs = ut.pairs_from_array(processOutputCLAHEeq, ThresholdArr)\n",
    "\n",
    "\n",
    "ut.showImages(pairs, scale=(1000,500))\n",
    "#kmeansApplied = ut.kmeansOutImages(ThresholdArr, 5)\n"
   ],
   "metadata": {
    "collapsed": false,
    "pycharm": {
     "name": "#%%\n"
    }
   }
  },
  {
   "cell_type": "code",
   "execution_count": 80,
   "outputs": [],
   "source": [
    "i = 2\n",
    "\n",
    "#numLabels, markers = ut.waterShedImages([ThresholdArr[0]])\n",
    "\n",
    "openings = ut.morphologyImages(ThresholdArr)\n",
    "        #ut.showImages(thresholded, scale=(500, 500))\n",
    "\n",
    "sure_bgs = ut.dilateImages(openings)\n",
    "\n",
    "# Finding sure foreground area\n",
    "dist_transform = cv2.distanceTransform(openings[i], cv2.DIST_L2, 5)\n",
    "dist_transform = cv2.normalize(dist_transform, dist_transform, 0, 1.0, cv2.NORM_MINMAX)\n",
    "ret, sure_fg = cv2.threshold(dist_transform, 0.1 * dist_transform.max(), 255, 0)\n",
    "# Finding unknown region\n",
    "sure_fg = np.uint8(sure_fg)\n",
    "unknown = cv2.subtract(sure_bgs[i], sure_fg)\n",
    "\n",
    "num_labels, labels = cv2.connectedComponents(sure_fg)\n",
    "\n",
    "label_hue = np.uint8(179 * labels/np.max(labels))\n",
    "blank_ch = 255 * np.ones_like(label_hue)\n",
    "labeled_img = cv2.merge([label_hue, blank_ch, blank_ch])\n",
    "\n",
    "labeled_img = cv2.cvtColor(labeled_img, cv2.COLOR_HSV2BGR)\n",
    "\n",
    "#markers = markers + 1\n",
    "# Now, mark the region of unknown with zero\n",
    "labeled_img[label_hue == 0] = 0\n",
    "\n",
    "#markers = cv2.watershed(images[0], markers)\n",
    "I = processOutputCLAHEeq[i]\n",
    "#images[0][markers == -1] = [255, 0, 0]\n",
    "pairs = ut.pairs_from_array([cv2.merge([I,I,I])], [labeled_img])\n",
    "\n",
    "\n",
    "grayImg = ut.grayscaleImages(images)\n",
    "clahe = cv2.createCLAHE(clipLimit=3.0, tileGridSize=(8, 8))\n",
    "\n",
    "hist_img = clahe.apply(grayImg[4])\n",
    "\n",
    "I = cv2.merge([hist_img,hist_img,hist_img])\n",
    "\n",
    "mergedImage = cv2.addWeighted(I, 0.5, labeled_img, .5, 0)\n",
    "\n",
    "pairs = ut.pairs_from_array(pairs,[mergedImage])\n",
    "\n",
    "ut.writeImages(pairs, prefix=\"YesMorphology\" + str(i))\n",
    "\n",
    "ut.showImages(pairs, scale=(1500,500))"
   ],
   "metadata": {
    "collapsed": false,
    "pycharm": {
     "name": "#%%\n"
    }
   }
  }
 ],
 "metadata": {
  "kernelspec": {
   "name": "python3",
   "language": "python",
   "display_name": "Python 3"
  },
  "language_info": {
   "codemirror_mode": {
    "name": "ipython",
    "version": 2
   },
   "file_extension": ".py",
   "mimetype": "text/x-python",
   "name": "python",
   "nbconvert_exporter": "python",
   "pygments_lexer": "ipython2",
   "version": "2.7.6"
  }
 },
 "nbformat": 4,
 "nbformat_minor": 0
}