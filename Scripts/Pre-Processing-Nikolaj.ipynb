{
 "cells": [
  {
   "cell_type": "markdown",
   "source": [
    "### Import and Load Images"
   ],
   "metadata": {
    "collapsed": false
   }
  },
  {
   "cell_type": "code",
   "execution_count": 1,
   "outputs": [
    {
     "name": "stdout",
     "output_type": "stream",
     "text": [
      "in init\n"
     ]
    }
   ],
   "source": [
    "import numpy as np\n",
    "import cv2\n",
    "import  matplotlib.pyplot as plt\n",
    "import os\n",
    "import sys\n",
    "sys.path.append('../Scripts/')\n",
    "from Scripts.Utility import Utility2\n",
    "ut = Utility2()\n",
    "\n",
    "root_dir = os.path.abspath(\"../\")\n",
    "imagePath = \"/Input/Images\""
   ],
   "metadata": {
    "collapsed": false,
    "pycharm": {
     "name": "#%%\n"
    }
   }
  },
  {
   "cell_type": "code",
   "execution_count": 2,
   "outputs": [],
   "source": [
    "images = ut.loadImages(imagePath)\n",
    "#ut.showImages(images, scale=(500,500))\n",
    "#transmitted, channels = ut.loadImages(imagePath)\n",
    "#ut.showImages(transmitted, scale=(500,500))\n",
    "#ut.showImages(channels, scale=(500,500))"
   ],
   "metadata": {
    "collapsed": false,
    "pycharm": {
     "name": "#%%\n"
    }
   }
  },
  {
   "cell_type": "markdown",
   "source": [
    "### Apply processing\n",
    "1. Gabor\n",
    "2. Histogram Equalization\n",
    "3. Median Smooth\n",
    "\n",
    "\n",
    "![Histogram Comparison](/ImageWrite/histogramComparison2.png \"Image\")"
   ],
   "metadata": {
    "collapsed": false
   }
  },
  {
   "cell_type": "code",
   "execution_count": 9,
   "outputs": [],
   "source": [
    "processOutput = []\n",
    "processOutputCLAHEeq = []\n",
    "processOutputBaseEq = []\n",
    "for image in images:\n",
    "    smoothed_eq_img_arr, smt_arr, f_img, f_values = ut.processImage(image)\n",
    "\n",
    "    processOutput.append(smoothed_eq_img_arr)\n",
    "\n",
    "\n",
    "    grayImg = ut.grayscaleImages([image])\n",
    "    baseeq = ut.grayscaleImages([ut.histogram_equalization(image)])\n",
    "\n",
    "    processOutputBaseEq.append(baseeq[0])\n",
    "\n",
    "    clahe = cv2.createCLAHE(clipLimit=3.0, tileGridSize=(8, 8))\n",
    "    mg_eq = clahe.apply(grayImg[0])\n",
    "\n",
    "    processOutputCLAHEeq.append(mg_eq)\n",
    "\n",
    "\n",
    "\n",
    "#smoothed_eq_img_arr, smt_arr, f_img, f_values = ut.processImage(images[0])#ut.load_and_process_image(\"/Input/Images/--W00001--P00004--Z00000--T00000--BFP.tif\")\n",
    "#smoothed_eq_img_arr1, smt_arr1, f_img1, f_values1 = ut.processImage(images[1])#ut.load_and_process_image(\"/Input/Images/--W00001--P00004--Z00000--T00000--DsRed.tif\")\n",
    "#smoothed_eq_img_arr2, smt_arr2, f_img2, f_values2 = ut.processImage(images[2])#ut.load_and_process_image(\"/Input/Images/--W00001--P00004--Z00000--T00000--eGFP.tif\")\n",
    "#smoothed_eq_img_arr3, smt_arr3, f_img3, f_values3 = ut.processImage(images[3])#ut.load_and_process_image(\"/Input/Images/--W00001--P00004--Z00000--T00000--miRFP.tif\")\n",
    "\n",
    "\n",
    "pairs = ut.pairs_from_array(processOutputCLAHEeq, processOutputBaseEq)\n",
    "#pairs = ut.pairs_from_array(ut.grayscaleImages(images), pairs)\n",
    "\n",
    "ut.showImages(pairs, scale=(1500,500))\n",
    "#ut.writeImages(pairs, path=\"../ImageWrite\", prefix=\"histogramComparison\", filetype=\".png\", scale=(500,250))"
   ],
   "metadata": {
    "collapsed": false,
    "pycharm": {
     "name": "#%%\n"
    }
   }
  },
  {
   "cell_type": "markdown",
   "source": [
    "### Apply Median Smoothing"
   ],
   "metadata": {
    "collapsed": false
   }
  },
  {
   "cell_type": "code",
   "execution_count": 7,
   "outputs": [],
   "source": [
    "medianSmoothed = ut.medianBlurImages(processOutputCLAHEeq)\n",
    "ut.showImages(medianSmoothed, scale=(500,500))"
   ],
   "metadata": {
    "collapsed": false,
    "pycharm": {
     "name": "#%%\n"
    }
   }
  },
  {
   "cell_type": "markdown",
   "source": [
    "### Merge Processed Images (Single Pair)\n",
    "Gamma = 0.25\n",
    "\n",
    "Theta = pi/4 && 3*pi/4\n",
    "\n",
    "From index 1 and 5 of processed images"
   ],
   "metadata": {
    "collapsed": false
   }
  },
  {
   "cell_type": "code",
   "execution_count": 8,
   "outputs": [
    {
     "ename": "error",
     "evalue": "OpenCV(4.4.0) C:\\Users\\appveyor\\AppData\\Local\\Temp\\1\\pip-req-build-52oirelq\\opencv\\modules\\core\\src\\matrix_operations.cpp:68: error: (-215:Assertion failed) src[i].dims <= 2 && src[i].rows == src[0].rows && src[i].type() == src[0].type() in function 'cv::hconcat'\n",
     "output_type": "error",
     "traceback": [
      "\u001B[1;31m---------------------------------------------------------------------------\u001B[0m",
      "\u001B[1;31merror\u001B[0m                                     Traceback (most recent call last)",
      "\u001B[1;32m<ipython-input-8-11ec85fd4ed3>\u001B[0m in \u001B[0;36m<module>\u001B[1;34m\u001B[0m\n\u001B[0;32m      9\u001B[0m \u001B[1;31m#ut.showImages(mergedImages, scale=(500,500))\u001B[0m\u001B[1;33m\u001B[0m\u001B[1;33m\u001B[0m\u001B[1;33m\u001B[0m\u001B[0m\n\u001B[0;32m     10\u001B[0m \u001B[1;33m\u001B[0m\u001B[0m\n\u001B[1;32m---> 11\u001B[1;33m \u001B[0mpairs\u001B[0m \u001B[1;33m=\u001B[0m \u001B[0mut\u001B[0m\u001B[1;33m.\u001B[0m\u001B[0mpairs_from_array\u001B[0m\u001B[1;33m(\u001B[0m\u001B[0mprocessOutputCLAHEeq\u001B[0m\u001B[1;33m,\u001B[0m \u001B[0mmergedImages\u001B[0m\u001B[1;33m)\u001B[0m\u001B[1;33m\u001B[0m\u001B[1;33m\u001B[0m\u001B[0m\n\u001B[0m\u001B[0;32m     12\u001B[0m \u001B[0mpairs\u001B[0m \u001B[1;33m=\u001B[0m \u001B[0mut\u001B[0m\u001B[1;33m.\u001B[0m\u001B[0mpairs_from_array\u001B[0m\u001B[1;33m(\u001B[0m\u001B[0mut\u001B[0m\u001B[1;33m.\u001B[0m\u001B[0mgrayscaleImages\u001B[0m\u001B[1;33m(\u001B[0m\u001B[0mimages\u001B[0m\u001B[1;33m)\u001B[0m\u001B[1;33m,\u001B[0m \u001B[0mpairs\u001B[0m\u001B[1;33m)\u001B[0m\u001B[1;33m\u001B[0m\u001B[1;33m\u001B[0m\u001B[0m\n\u001B[0;32m     13\u001B[0m \u001B[1;33m\u001B[0m\u001B[0m\n",
      "\u001B[1;32mE:\\GitHub\\WholeCellSegmentation\\Scripts\\Utility.py\u001B[0m in \u001B[0;36mpairs_from_array\u001B[1;34m(self, arr1, arr2)\u001B[0m\n\u001B[0;32m    201\u001B[0m             \u001B[1;31m##s2 = im2[:, width_cutoff:]\u001B[0m\u001B[1;33m\u001B[0m\u001B[1;33m\u001B[0m\u001B[1;33m\u001B[0m\u001B[0m\n\u001B[0;32m    202\u001B[0m \u001B[1;33m\u001B[0m\u001B[0m\n\u001B[1;32m--> 203\u001B[1;33m             \u001B[0m_img\u001B[0m \u001B[1;33m=\u001B[0m \u001B[0mcv2\u001B[0m\u001B[1;33m.\u001B[0m\u001B[0mhconcat\u001B[0m\u001B[1;33m(\u001B[0m\u001B[1;33m[\u001B[0m\u001B[0mim1\u001B[0m\u001B[1;33m,\u001B[0m\u001B[0mim2\u001B[0m\u001B[1;33m]\u001B[0m\u001B[1;33m)\u001B[0m\u001B[1;33m\u001B[0m\u001B[1;33m\u001B[0m\u001B[0m\n\u001B[0m\u001B[0;32m    204\u001B[0m             \u001B[0mout\u001B[0m\u001B[1;33m.\u001B[0m\u001B[0mappend\u001B[0m\u001B[1;33m(\u001B[0m\u001B[0m_img\u001B[0m\u001B[1;33m)\u001B[0m\u001B[1;33m\u001B[0m\u001B[1;33m\u001B[0m\u001B[0m\n\u001B[0;32m    205\u001B[0m         \u001B[1;32mreturn\u001B[0m \u001B[0mout\u001B[0m\u001B[1;33m\u001B[0m\u001B[1;33m\u001B[0m\u001B[0m\n",
      "\u001B[1;31merror\u001B[0m: OpenCV(4.4.0) C:\\Users\\appveyor\\AppData\\Local\\Temp\\1\\pip-req-build-52oirelq\\opencv\\modules\\core\\src\\matrix_operations.cpp:68: error: (-215:Assertion failed) src[i].dims <= 2 && src[i].rows == src[0].rows && src[i].type() == src[0].type() in function 'cv::hconcat'\n"
     ]
    }
   ],
   "source": [
    "#smts = [smoothed_eq_img_arr,smoothed_eq_img_arr1, smoothed_eq_img_arr2,smoothed_eq_img_arr3]\n",
    "#mergedImages = ut.mergeImages(smts, 0,3, 0.5)\n",
    "mergedImages = []\n",
    "\n",
    "for x in processOutput:\n",
    "    mergedImage = cv2.addWeighted(x[1], 0.5, x[5], .5, 0)\n",
    "    mergedImages.append(mergedImage)\n",
    "    \n",
    "#ut.showImages(mergedImages, scale=(500,500))\n",
    "\n",
    "pairs = ut.pairs_from_array(processOutputCLAHEeq, mergedImages)\n",
    "pairs = ut.pairs_from_array(ut.grayscaleImages(images), pairs)\n",
    "\n",
    "ut.showImages(pairs, scale=(1500,500))\n"
   ],
   "metadata": {
    "collapsed": false,
    "pycharm": {
     "name": "#%%\n"
    }
   }
  },
  {
   "cell_type": "markdown",
   "source": [
    "### Watershed Process"
   ],
   "metadata": {
    "collapsed": false
   }
  },
  {
   "cell_type": "code",
   "execution_count": 6,
   "outputs": [
    {
     "ename": "error",
     "evalue": "OpenCV(4.4.0) C:\\Users\\appveyor\\AppData\\Local\\Temp\\1\\pip-req-build-52oirelq\\opencv\\modules\\imgproc\\src\\thresh.cpp:1557: error: (-2:Unspecified error) in function 'double __cdecl cv::threshold(const class cv::_InputArray &,const class cv::_OutputArray &,double,double,int)'\n> THRESH_OTSU mode:\n>     'src_type == CV_8UC1 || src_type == CV_16UC1'\n> where\n>     'src_type' is 16 (CV_8UC3)\n",
     "output_type": "error",
     "traceback": [
      "\u001B[1;31m---------------------------------------------------------------------------\u001B[0m",
      "\u001B[1;31merror\u001B[0m                                     Traceback (most recent call last)",
      "\u001B[1;32m<ipython-input-6-70b000df07cd>\u001B[0m in \u001B[0;36m<module>\u001B[1;34m\u001B[0m\n\u001B[0;32m      2\u001B[0m \u001B[1;31m#GrayMergedArr = ut.grayscaleImages(mergedImages)\u001B[0m\u001B[1;33m\u001B[0m\u001B[1;33m\u001B[0m\u001B[1;33m\u001B[0m\u001B[0m\n\u001B[0;32m      3\u001B[0m \u001B[1;33m\u001B[0m\u001B[0m\n\u001B[1;32m----> 4\u001B[1;33m \u001B[0mThresholdArr\u001B[0m \u001B[1;33m=\u001B[0m \u001B[0mut\u001B[0m\u001B[1;33m.\u001B[0m\u001B[0mthresholdImages\u001B[0m\u001B[1;33m(\u001B[0m\u001B[0mmergedImages\u001B[0m\u001B[1;33m)\u001B[0m\u001B[1;33m\u001B[0m\u001B[1;33m\u001B[0m\u001B[0m\n\u001B[0m\u001B[0;32m      5\u001B[0m \u001B[1;31m#ut.showImages(ThresholdArr, scale=(500,500))\u001B[0m\u001B[1;33m\u001B[0m\u001B[1;33m\u001B[0m\u001B[1;33m\u001B[0m\u001B[0m\n\u001B[0;32m      6\u001B[0m \u001B[0mkmeansApplied\u001B[0m \u001B[1;33m=\u001B[0m \u001B[0mut\u001B[0m\u001B[1;33m.\u001B[0m\u001B[0mkmeansOutImages\u001B[0m\u001B[1;33m(\u001B[0m\u001B[0mThresholdArr\u001B[0m\u001B[1;33m,\u001B[0m \u001B[1;36m5\u001B[0m\u001B[1;33m)\u001B[0m\u001B[1;33m\u001B[0m\u001B[1;33m\u001B[0m\u001B[0m\n",
      "\u001B[1;32mE:\\GitHub\\WholeCellSegmentation\\Scripts\\Utility.py\u001B[0m in \u001B[0;36mthresholdImages\u001B[1;34m(self, images, minval, maxval, invert)\u001B[0m\n\u001B[0;32m    311\u001B[0m         \u001B[0moutput\u001B[0m \u001B[1;33m=\u001B[0m \u001B[1;33m[\u001B[0m\u001B[1;33m]\u001B[0m\u001B[1;33m\u001B[0m\u001B[1;33m\u001B[0m\u001B[0m\n\u001B[0;32m    312\u001B[0m         \u001B[1;32mfor\u001B[0m \u001B[0mx\u001B[0m \u001B[1;32min\u001B[0m \u001B[0mimages\u001B[0m\u001B[1;33m:\u001B[0m\u001B[1;33m\u001B[0m\u001B[1;33m\u001B[0m\u001B[0m\n\u001B[1;32m--> 313\u001B[1;33m             \u001B[0mret\u001B[0m\u001B[1;33m,\u001B[0m \u001B[0mthresh\u001B[0m \u001B[1;33m=\u001B[0m \u001B[0mcv2\u001B[0m\u001B[1;33m.\u001B[0m\u001B[0mthreshold\u001B[0m\u001B[1;33m(\u001B[0m\u001B[0mx\u001B[0m\u001B[1;33m,\u001B[0m \u001B[0mminval\u001B[0m\u001B[1;33m,\u001B[0m \u001B[0mmaxval\u001B[0m\u001B[1;33m,\u001B[0m \u001B[0mcv2\u001B[0m\u001B[1;33m.\u001B[0m\u001B[0mTHRESH_BINARY_INV\u001B[0m\u001B[1;33m+\u001B[0m\u001B[0mcv2\u001B[0m\u001B[1;33m.\u001B[0m\u001B[0mTHRESH_OTSU\u001B[0m\u001B[1;33m)\u001B[0m\u001B[1;33m\u001B[0m\u001B[1;33m\u001B[0m\u001B[0m\n\u001B[0m\u001B[0;32m    314\u001B[0m             \u001B[1;32mif\u001B[0m \u001B[0minvert\u001B[0m \u001B[1;32mis\u001B[0m \u001B[1;32mnot\u001B[0m \u001B[1;32mNone\u001B[0m\u001B[1;33m:\u001B[0m\u001B[1;33m\u001B[0m\u001B[1;33m\u001B[0m\u001B[0m\n\u001B[0;32m    315\u001B[0m                 \u001B[0mthresh\u001B[0m \u001B[1;33m=\u001B[0m \u001B[1;36m255\u001B[0m \u001B[1;33m-\u001B[0m \u001B[0mthresh\u001B[0m\u001B[1;33m\u001B[0m\u001B[1;33m\u001B[0m\u001B[0m\n",
      "\u001B[1;31merror\u001B[0m: OpenCV(4.4.0) C:\\Users\\appveyor\\AppData\\Local\\Temp\\1\\pip-req-build-52oirelq\\opencv\\modules\\imgproc\\src\\thresh.cpp:1557: error: (-2:Unspecified error) in function 'double __cdecl cv::threshold(const class cv::_InputArray &,const class cv::_OutputArray &,double,double,int)'\n> THRESH_OTSU mode:\n>     'src_type == CV_8UC1 || src_type == CV_16UC1'\n> where\n>     'src_type' is 16 (CV_8UC3)\n"
     ]
    }
   ],
   "source": [
    "#mergedImages = [mergedImage, mergedImage1, mergedImage2, mergedImage3]\n",
    "#GrayMergedArr = ut.grayscaleImages(mergedImages)\n",
    "\n",
    "ThresholdArr = ut.thresholdImages(mergedImages)\n",
    "#ut.showImages(ThresholdArr, scale=(500,500))\n",
    "kmeansApplied = ut.kmeansOutImages(ThresholdArr, 5)\n",
    "\n",
    "\n",
    "\n",
    "ut.showImages(kmeansApplied, scale=(500,500))"
   ],
   "metadata": {
    "collapsed": false,
    "pycharm": {
     "name": "#%%\n"
    }
   }
  },
  {
   "cell_type": "code",
   "execution_count": null,
   "outputs": [],
   "source": [
    "ThresholdedKmeans = []\n",
    "for x in range(len(kmeansApplied)):\n",
    "    ret, thresh = cv2.threshold(kmeansApplied[x], 191, 255, cv2.THRESH_BINARY)\n",
    "    ThresholdedKmeans.append(thresh)\n",
    "\n",
    "\n",
    "#GrayScaleKmeans = ut.grayscaleImages(kmeansApplied)\n",
    "ThresholdedKmeans.pop()\n",
    "ut.showImages(ThresholdedKmeans, scale=(500,500))\n",
    "\n",
    "singleImage = ut.pairMerge(ThresholdedKmeans)\n",
    "\n",
    "ut.showImages([singleImage], scale=(500,500))\n",
    "\n",
    "#histSingleImage  = ut.histogram_equalization(singleImage)\n",
    "\n",
    "#ut.showImages([histSingleImage,singleImage], scale=(500,500))\n",
    "\n",
    "#ut.writeImages([histSingleImage,singleImage])\n",
    "ret, thresh = cv2.threshold(singleImage, 128, 255, cv2.THRESH_BINARY)\n",
    "\n",
    "ut.showImages([singleImage,thresh], scale=(500,500))\n",
    "\n",
    "#ut.writeImages([singleImage,thresh],\"postMerge\", [\"singleImage\" , \"thresh\"] )\n",
    "\n",
    "#ThresholdedKmeans.append(thresh)\n",
    "\n",
    "\n",
    "print(np.shape(kmeansApplied))\n",
    "#pairs = ut.pairs_from_array(ThresholdedKmeans, kmeansApplied)\n",
    "#ut.showImages(pairs, scale=(500,500))\n",
    "\n",
    "#output, markers = ut.waterShedImages(kmeansApplied)\n",
    "\n",
    "\n",
    "#ut.showImages(output, scale=(500,500))\n"
   ],
   "metadata": {
    "collapsed": false,
    "pycharm": {
     "name": "#%%\n"
    }
   }
  }
 ],
 "metadata": {
  "kernelspec": {
   "name": "python3",
   "language": "python",
   "display_name": "Python 3"
  },
  "language_info": {
   "codemirror_mode": {
    "name": "ipython",
    "version": 2
   },
   "file_extension": ".py",
   "mimetype": "text/x-python",
   "name": "python",
   "nbconvert_exporter": "python",
   "pygments_lexer": "ipython2",
   "version": "2.7.6"
  }
 },
 "nbformat": 4,
 "nbformat_minor": 0
}