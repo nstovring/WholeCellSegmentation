{
 "cells": [
  {
   "cell_type": "markdown",
   "source": [
    "### Import and Load Images"
   ],
   "metadata": {
    "collapsed": false
   }
  },
  {
   "cell_type": "code",
   "execution_count": 11,
   "outputs": [
    {
     "name": "stdout",
     "output_type": "stream",
     "text": [
      "in init\n",
      "HUH?\n"
     ]
    }
   ],
   "source": [
    "import numpy as np\n",
    "import cv2\n",
    "import  matplotlib.pyplot as plt\n",
    "import os\n",
    "\n",
    "import sys\n",
    "sys.path.append('../Scripts/')\n",
    "\n",
    "\n",
    "from Scripts.Utility import Utility2\n",
    "# util import Utility\n",
    "\n",
    "ut = Utility2()\n",
    "\n",
    "ut.Test()\n",
    "\n",
    "\n",
    "root_dir = os.path.abspath(\"../\")\n",
    "imagePath = \"/Input/Images\"\n",
    "\n",
    "images = ut.loadImages(imagePath)\n",
    "ut.showImages(images, scale=(500,500))"
   ],
   "metadata": {
    "collapsed": false,
    "pycharm": {
     "name": "#%%\n"
    }
   }
  },
  {
   "cell_type": "markdown",
   "source": [
    "### Apply processing\n",
    "1. Gabor\n",
    "2. Histogram Equalization\n",
    "3. Median Smooth"
   ],
   "metadata": {
    "collapsed": false
   }
  },
  {
   "cell_type": "code",
   "execution_count": 9,
   "outputs": [
    {
     "name": "stdout",
     "output_type": "stream",
     "text": [
      "3 0.7853981633974483 0.1\n",
      "3 0.7853981633974483 0.25\n",
      "3 0.7853981633974483 0.5\n",
      "3 0.7853981633974483 1.0\n",
      "3 2.356194490192345 0.1\n",
      "3 2.356194490192345 0.25\n",
      "3 2.356194490192345 0.5\n",
      "3 2.356194490192345 1.0\n",
      "3 0.7853981633974483 0.1\n",
      "3 0.7853981633974483 0.25\n",
      "3 0.7853981633974483 0.5\n",
      "3 0.7853981633974483 1.0\n",
      "3 2.356194490192345 0.1\n",
      "3 2.356194490192345 0.25\n",
      "3 2.356194490192345 0.5\n",
      "3 2.356194490192345 1.0\n",
      "3 0.7853981633974483 0.1\n",
      "3 0.7853981633974483 0.25\n",
      "3 0.7853981633974483 0.5\n",
      "3 0.7853981633974483 1.0\n",
      "3 2.356194490192345 0.1\n",
      "3 2.356194490192345 0.25\n",
      "3 2.356194490192345 0.5\n",
      "3 2.356194490192345 1.0\n",
      "3 0.7853981633974483 0.1\n",
      "3 0.7853981633974483 0.25\n",
      "3 0.7853981633974483 0.5\n",
      "3 0.7853981633974483 1.0\n",
      "3 2.356194490192345 0.1\n",
      "3 2.356194490192345 0.25\n",
      "3 2.356194490192345 0.5\n",
      "3 2.356194490192345 1.0\n"
     ]
    }
   ],
   "source": [
    "smoothed_eq_img_arr, smt_arr, f_img, f_values = ut.processImage(images[0])#ut.load_and_process_image(\"/Input/Images/--W00001--P00004--Z00000--T00000--BFP.tif\")\n",
    "smoothed_eq_img_arr1, smt_arr1, f_img1, f_values1 = ut.processImage(images[1])#ut.load_and_process_image(\"/Input/Images/--W00001--P00004--Z00000--T00000--DsRed.tif\")\n",
    "smoothed_eq_img_arr2, smt_arr2, f_img2, f_values2 = ut.processImage(images[2])#ut.load_and_process_image(\"/Input/Images/--W00001--P00004--Z00000--T00000--eGFP.tif\")\n",
    "smoothed_eq_img_arr3, smt_arr3, f_img3, f_values3 = ut.processImage(images[3])#ut.load_and_process_image(\"/Input/Images/--W00001--P00004--Z00000--T00000--miRFP.tif\")\n",
    "\n",
    "pairs = ut.pairs_from_array(smoothed_eq_img_arr, smt_arr)\n",
    "\n",
    "ut.showImages(pairs, scale=(1000,500))"
   ],
   "metadata": {
    "collapsed": false,
    "pycharm": {
     "name": "#%%\n"
    }
   }
  },
  {
   "cell_type": "markdown",
   "source": [
    "### Merge Processed Images (Single Pair)\n",
    "Gamma = 0.25\n",
    "\n",
    "Theta = pi/4 && 3*pi/4"
   ],
   "metadata": {
    "collapsed": false
   }
  },
  {
   "cell_type": "code",
   "execution_count": null,
   "outputs": [],
   "source": [
    "filter1 = seq[1]\n",
    "filter2 = seq[5]\n",
    "\n",
    "\n",
    "mergedImage  = cv2.addWeighted(filter1, 0.5, filter2, .5, 0)\n",
    "mergedImage1  = cv2.addWeighted(smoothed_eq_img_arr1[1], 0.5, smoothed_eq_img_arr1[5], .5, 0)\n",
    "mergedImage2  = cv2.addWeighted(smoothed_eq_img_arr2[1], 0.5, smoothed_eq_img_arr2[5], .5, 0)\n",
    "mergedImage3  = cv2.addWeighted(smoothed_eq_img_arr3[1], 0.5, smoothed_eq_img_arr3[5], .5, 0)\n",
    "\n",
    "ut.showImages([mergedImage,mergedImage1,mergedImage2,mergedImage3], scale=(500,500))"
   ],
   "metadata": {
    "collapsed": false,
    "pycharm": {
     "name": "#%%\n"
    }
   }
  },
  {
   "cell_type": "markdown",
   "source": [
    "### Watershed Process"
   ],
   "metadata": {
    "collapsed": false
   }
  },
  {
   "cell_type": "code",
   "execution_count": null,
   "outputs": [],
   "source": [
    "GrayMerged = cv2.cvtColor(mergedImage,cv2.COLOR_BGR2GRAY)\n",
    "GrayMerged1 = cv2.cvtColor(mergedImage1,cv2.COLOR_BGR2GRAY)\n",
    "GrayMerged2 = cv2.cvtColor(mergedImage2,cv2.COLOR_BGR2GRAY)\n",
    "GrayMerged3 = cv2.cvtColor(mergedImage3,cv2.COLOR_BGR2GRAY)\n",
    "ret, thresh = cv2.threshold(GrayMerged,0,255,cv2.THRESH_BINARY_INV+cv2.THRESH_OTSU)\n",
    "ret1, thresh1 = cv2.threshold(GrayMerged1,0,255,cv2.THRESH_BINARY_INV+cv2.THRESH_OTSU)\n",
    "ret2, thresh2 = cv2.threshold(GrayMerged2,0,255,cv2.THRESH_BINARY_INV+cv2.THRESH_OTSU)\n",
    "ret3, thresh3 = cv2.threshold(GrayMerged3,0,255,cv2.THRESH_BINARY_INV+cv2.THRESH_OTSU)\n",
    "\n"
   ],
   "metadata": {
    "collapsed": false,
    "pycharm": {
     "name": "#%%\n"
    }
   }
  }
 ],
 "metadata": {
  "kernelspec": {
   "display_name": "Python 3",
   "language": "python",
   "name": "python3"
  },
  "language_info": {
   "codemirror_mode": {
    "name": "ipython",
    "version": 2
   },
   "file_extension": ".py",
   "mimetype": "text/x-python",
   "name": "python",
   "nbconvert_exporter": "python",
   "pygments_lexer": "ipython2",
   "version": "2.7.6"
  }
 },
 "nbformat": 4,
 "nbformat_minor": 0
}