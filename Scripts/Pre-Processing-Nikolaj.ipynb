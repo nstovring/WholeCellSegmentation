{
 "cells": [
  {
   "cell_type": "markdown",
   "source": [
    "### Import and Load Images"
   ],
   "metadata": {
    "collapsed": false
   }
  },
  {
   "cell_type": "code",
   "execution_count": 1,
   "outputs": [
    {
     "name": "stdout",
     "output_type": "stream",
     "text": [
      "in init\n"
     ]
    }
   ],
   "source": [
    "import numpy as np\n",
    "import cv2\n",
    "import  matplotlib.pyplot as plt\n",
    "import os\n",
    "import sys\n",
    "sys.path.append('../Scripts/')\n",
    "from Scripts.Utility import Utility2\n",
    "ut = Utility2()\n",
    "\n",
    "root_dir = os.path.abspath(\"../\")\n",
    "imagePath = \"/Input/Images\""
   ],
   "metadata": {
    "collapsed": false,
    "pycharm": {
     "name": "#%%\n"
    }
   }
  },
  {
   "cell_type": "code",
   "execution_count": 2,
   "outputs": [],
   "source": [
    "images = ut.loadImages(imagePath)\n",
    "#ut.showImages(images, scale=(500,500))\n",
    "#transmitted, channels = ut.loadImages(imagePath)\n",
    "#ut.showImages(transmitted, scale=(500,500))\n",
    "#ut.showImages(channels, scale=(500,500))"
   ],
   "metadata": {
    "collapsed": false,
    "pycharm": {
     "name": "#%%\n"
    }
   }
  },
  {
   "cell_type": "markdown",
   "source": [
    "### Apply processing\n",
    "1. Gabor\n",
    "2. Histogram Equalization\n",
    "3. Median Smooth"
   ],
   "metadata": {
    "collapsed": false
   }
  },
  {
   "cell_type": "code",
   "execution_count": 3,
   "outputs": [],
   "source": [
    "processOutput = []\n",
    "\n",
    "for image in images:\n",
    "    smoothed_eq_img_arr, smt_arr, f_img, f_values = ut.processImage(image)\n",
    "    processOutput.append(smoothed_eq_img_arr)\n",
    "\n",
    "\n",
    "#smoothed_eq_img_arr, smt_arr, f_img, f_values = ut.processImage(images[0])#ut.load_and_process_image(\"/Input/Images/--W00001--P00004--Z00000--T00000--BFP.tif\")\n",
    "#smoothed_eq_img_arr1, smt_arr1, f_img1, f_values1 = ut.processImage(images[1])#ut.load_and_process_image(\"/Input/Images/--W00001--P00004--Z00000--T00000--DsRed.tif\")\n",
    "#smoothed_eq_img_arr2, smt_arr2, f_img2, f_values2 = ut.processImage(images[2])#ut.load_and_process_image(\"/Input/Images/--W00001--P00004--Z00000--T00000--eGFP.tif\")\n",
    "#smoothed_eq_img_arr3, smt_arr3, f_img3, f_values3 = ut.processImage(images[3])#ut.load_and_process_image(\"/Input/Images/--W00001--P00004--Z00000--T00000--miRFP.tif\")\n",
    "\n",
    "\n",
    "#pairs = ut.pairs_from_array(smoothed_eq_img_arr, smt_arr)\n",
    "#ut.showImages(pairs, scale=(1000,500))\n",
    "#ut.writeImages(pairs, path=\"../ImageWrite\")"
   ],
   "metadata": {
    "collapsed": false,
    "pycharm": {
     "name": "#%%\n"
    }
   }
  },
  {
   "cell_type": "markdown",
   "source": [
    "### Merge Processed Images (Single Pair)\n",
    "Gamma = 0.25\n",
    "\n",
    "Theta = pi/4 && 3*pi/4\n",
    "\n",
    "From index 1 and 5 of processed images"
   ],
   "metadata": {
    "collapsed": false
   }
  },
  {
   "cell_type": "code",
   "execution_count": 4,
   "outputs": [],
   "source": [
    "#smts = [smoothed_eq_img_arr,smoothed_eq_img_arr1, smoothed_eq_img_arr2,smoothed_eq_img_arr3]\n",
    "#mergedImages = ut.mergeImages(smts, 0,3, 0.5)\n",
    "mergedImages = []\n",
    "\n",
    "for x in processOutput:\n",
    "    mergedImage =  cv2.addWeighted(x[1], 0.5, x[5], .5, 0)\n",
    "    mergedImages.append(mergedImage)\n",
    "    \n"
   ],
   "metadata": {
    "collapsed": false,
    "pycharm": {
     "name": "#%%\n"
    }
   }
  },
  {
   "cell_type": "markdown",
   "source": [
    "### Watershed Process"
   ],
   "metadata": {
    "collapsed": false
   }
  },
  {
   "cell_type": "code",
   "execution_count": 5,
   "outputs": [],
   "source": [
    "#mergedImages = [mergedImage, mergedImage1, mergedImage2, mergedImage3]\n",
    "GrayMergedArr = ut.grayscaleImages(mergedImages)\n",
    "\n",
    "ThresholdArr = ut.thresholdImages(GrayMergedArr)\n",
    "#ut.showImages(ThresholdArr, scale=(500,500))\n",
    "kmeansApplied = ut.kmeansOutImages(mergedImages, 5)"
   ],
   "metadata": {
    "collapsed": false,
    "pycharm": {
     "name": "#%%\n"
    }
   }
  },
  {
   "cell_type": "code",
   "execution_count": 6,
   "outputs": [],
   "source": [
    "ut.showImages(kmeansApplied, scale=(500,500))"
   ],
   "metadata": {
    "collapsed": false,
    "pycharm": {
     "name": "#%%\n"
    }
   }
  },
  {
   "cell_type": "code",
   "execution_count": 31,
   "outputs": [
    {
     "name": "stdout",
     "output_type": "stream",
     "text": [
      "(5, 2048, 2048, 3)\n"
     ]
    }
   ],
   "source": [
    "ThresholdedKmeans = []\n",
    "for x in range(len(kmeansApplied)):\n",
    "    ret, thresh = cv2.threshold(kmeansApplied[x], 191, 255, cv2.THRESH_BINARY)\n",
    "    ThresholdedKmeans.append(thresh)\n",
    "\n",
    "\n",
    "#GrayScaleKmeans = ut.grayscaleImages(kmeansApplied)\n",
    "ThresholdedKmeans.pop()\n",
    "ut.showImages(ThresholdedKmeans, scale=(500,500))\n",
    "\n",
    "singleImage = ut.pairMerge(ThresholdedKmeans)\n",
    "\n",
    "ut.showImages([singleImage], scale=(500,500))\n",
    "\n",
    "#histSingleImage  = ut.histogram_equalization(singleImage)\n",
    "\n",
    "#ut.showImages([histSingleImage,singleImage], scale=(500,500))\n",
    "\n",
    "#ut.writeImages([histSingleImage,singleImage])\n",
    "ret, thresh = cv2.threshold(singleImage, 128, 255, cv2.THRESH_BINARY)\n",
    "\n",
    "ut.showImages([singleImage,thresh], scale=(500,500))\n",
    "\n",
    "#ut.writeImages([singleImage,thresh],\"postMerge\", [\"singleImage\" , \"thresh\"] )\n",
    "\n",
    "#ThresholdedKmeans.append(thresh)\n",
    "\n",
    "\n",
    "print(np.shape(kmeansApplied))\n",
    "#pairs = ut.pairs_from_array(ThresholdedKmeans, kmeansApplied)\n",
    "#ut.showImages(pairs, scale=(500,500))\n",
    "\n",
    "#output, markers = ut.waterShedImages(kmeansApplied)\n",
    "\n",
    "\n",
    "#ut.showImages(output, scale=(500,500))\n"
   ],
   "metadata": {
    "collapsed": false,
    "pycharm": {
     "name": "#%%\n"
    }
   }
  }
 ],
 "metadata": {
  "kernelspec": {
   "display_name": "Python 3",
   "language": "python",
   "name": "python3"
  },
  "language_info": {
   "codemirror_mode": {
    "name": "ipython",
    "version": 2
   },
   "file_extension": ".py",
   "mimetype": "text/x-python",
   "name": "python",
   "nbconvert_exporter": "python",
   "pygments_lexer": "ipython2",
   "version": "2.7.6"
  }
 },
 "nbformat": 4,
 "nbformat_minor": 0
}