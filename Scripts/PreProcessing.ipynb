{
 "cells": [
  {
   "cell_type": "code",
   "execution_count": 3,
   "metadata": {
    "collapsed": true,
    "pycharm": {
     "name": "#%%\n"
    }
   },
   "outputs": [],
   "source": [
    "import numpy as np\n",
    "import cv2\n",
    "import  matplotlib.pyplot as plt\n",
    "import os"
   ]
  },
  {
   "cell_type": "code",
   "execution_count": 4,
   "outputs": [
    {
     "name": "stdout",
     "output_type": "stream",
     "text": [
      "3 0.7853981633974483 0.1\n",
      "3 0.7853981633974483 0.25\n",
      "3 0.7853981633974483 0.5\n",
      "3 0.7853981633974483 1.0\n",
      "3 2.356194490192345 0.1\n",
      "3 2.356194490192345 0.25\n",
      "3 2.356194490192345 0.5\n",
      "3 2.356194490192345 1.0\n"
     ]
    }
   ],
   "source": [
    "root_dir = os.path.abspath(\"../\")\n",
    "\n",
    "def load_and_process_image(path):\n",
    "    images = []\n",
    "    smoothImages = []\n",
    "\n",
    "    #load image\n",
    "    img = cv2.imread(root_dir+path)\n",
    "    images.append(img)\n",
    "    # histogram equalization on image\n",
    "    #img_eq = histogram_equalization(img)\n",
    "    #final_image = cv2.hconcat([img,img_eq])\n",
    "    #images.append(img_eq)\n",
    "    # apply gabor filters on equalized image\n",
    "    filters, filterValues = generate_gabor_filters()\n",
    "\n",
    "    for x in range(len(filters)):\n",
    "        fimg = cv2.filter2D(img,cv2.CV_8UC3,filters[x]) #img_eq\n",
    "\n",
    "        n=13; #where n*n is the size of filter\n",
    "        smoothed_image = cv2.medianBlur(fimg, n)\n",
    "        smoothImages.append(smoothed_image)\n",
    "\n",
    "        mg_eq = histogram_equalization(smoothed_image)\n",
    "        images.append(mg_eq)\n",
    "        #final_image= cv2.hconcat([final_image,fimg])\n",
    "\n",
    "    final_image = h_concatenate_images(images)\n",
    "    return images, smoothImages, final_image, filterValues\n",
    "\n",
    "\n",
    "def histogram_equalization(img_in):\n",
    "    # segregate color streams\n",
    "    #image = cv2.imread(img_in)\n",
    "    #b,g, r = img_in\n",
    "    b,g,r =  cv2.split(img_in)\n",
    "    h_b, bin_b = np.histogram(b.flatten(), 256, [0, 256])\n",
    "    h_g, bin_g = np.histogram(g.flatten(), 256, [0, 256])\n",
    "    h_r, bin_r = np.histogram(r.flatten(), 256, [0, 256])\n",
    "# calculate cdf\n",
    "    cdf_b = np.cumsum(h_b)\n",
    "    cdf_g = np.cumsum(h_g)\n",
    "    cdf_r = np.cumsum(h_r)\n",
    "\n",
    "# mask all pixels with value=0 and replace it with mean of the pixel values\n",
    "    cdf_m_b = np.ma.masked_equal(cdf_b,0)\n",
    "    cdf_m_b = (cdf_m_b - cdf_m_b.min())*255/(cdf_m_b.max()-cdf_m_b.min())\n",
    "    cdf_final_b = np.ma.filled(cdf_m_b,0).astype('uint8')\n",
    "\n",
    "    cdf_m_g = np.ma.masked_equal(cdf_g,0)\n",
    "    cdf_m_g = (cdf_m_g - cdf_m_g.min())*255/(cdf_m_g.max()-cdf_m_g.min())\n",
    "    cdf_final_g = np.ma.filled(cdf_m_g,0).astype('uint8')\n",
    "    cdf_m_r = np.ma.masked_equal(cdf_r,0)\n",
    "    cdf_m_r = (cdf_m_r - cdf_m_r.min())*255/(cdf_m_r.max()-cdf_m_r.min())\n",
    "    cdf_final_r = np.ma.filled(cdf_m_r,0).astype('uint8')\n",
    "# merge the images in the three channels\n",
    "    img_b = cdf_final_b[b]\n",
    "    img_g = cdf_final_g[g]\n",
    "    img_r = cdf_final_r[r]\n",
    "\n",
    "    img_out = cv2.merge((img_b, img_g, img_r))\n",
    "# validation\n",
    "   #equ_b = cv2.equalizeHist(b)\n",
    "   #equ_g = cv2.equalizeHist(g)\n",
    "   #equ_r = cv2.equalizeHist(r)\n",
    "   #equ = cv2.merge((equ_b, equ_g, equ_r))\n",
    "    #print(equ)\n",
    "    #cv2.imwrite('output_name.png', equ)\n",
    "    return img_out\n",
    "    #cv2.imshow(str(img),img)\n",
    "    #cv2.waitKey(0)\n",
    "    #cv2.destroyAllWindows()\n",
    "\n",
    "def generate_gabor_filters():\n",
    "\n",
    "    k = (50,50)\n",
    "    sigma = 3\n",
    "    theta = 1*np.pi/4\n",
    "    lamda = 1*np.pi/4  #1/4 works best for angled.\n",
    "    #gamma = .78 #.5 and .78 yields results\n",
    "    gammArr = [.1,0.25,0.5,1.0]\n",
    "    phi = 0\n",
    "    filters = []\n",
    "    values = []\n",
    "    for x in range(1,4,2):\n",
    "        theta = x*np.pi/4\n",
    "        for y in gammArr:\n",
    "            gamma = y\n",
    "            kernel = cv2.getGaborKernel(k, sigma, theta, lamda, gamma, phi, ktype=cv2.CV_32F)\n",
    "            #kernel = cv2.resize(kernel, (32,32))\n",
    "            value = (\"Sigma\", sigma, \"Theta\", theta, \"Gamma\", gamma)\n",
    "            values.append(value)\n",
    "            filters.append(kernel)\n",
    "            print(sigma,theta, gamma)\n",
    "\n",
    "    return filters, values\n",
    "\n",
    "def h_concatenate_images(imgArr):\n",
    "    _img = imgArr[0]\n",
    "    for x in range(len(imgArr)-1):\n",
    "        _img = cv2.hconcat([_img,imgArr[x+1]])\n",
    "    return _img\n",
    "\n",
    "def v_concatenate_images(imgArr):\n",
    "    _img = imgArr[0]\n",
    "    for x in range(len(imgArr)-1):\n",
    "        _img = cv2.vconcat([_img,imgArr[x+1]])\n",
    "    return _img\n",
    "\n",
    "def pairs_from_array(arr1,arr2):\n",
    "    out=[]\n",
    "    arr1 = arr1[1:]\n",
    "    for x in range(len(arr1)):\n",
    "        im1 = arr1[x]\n",
    "        im2 = arr2[x]\n",
    "        _img = cv2.hconcat([im1,im2])\n",
    "        out.append(_img)\n",
    "    return  out\n",
    "\n",
    "\n",
    "smoothed_eq_img_arr, smt_arr, f_img, f_values = load_and_process_image(\"/Input/Images/--W00001--P00004--Z00000--T00000--BFP.tif\")\n",
    "#img_arr1, f_img1 = load_and_process_image(\"/Input/Images/--W00001--P00004--Z00000--T00000--DsRed.tif\")\n",
    "#img_arr2, f_img2 = load_and_process_image(\"/Input/Images/--W00001--P00004--Z00000--T00000--eGFP.tif\")\n",
    "#img_arr3, f_img3 = load_and_process_image(\"/Input/Images/--W00001--P00004--Z00000--T00000--miRFP.tif\")\n",
    "\n",
    "pairs = pairs_from_array(smoothed_eq_img_arr, smt_arr)\n",
    "\n",
    "for x in range(len(pairs)):\n",
    "    cv2.imshow(\"Pair\" +  str(f_values[x]) , pairs[x])\n",
    "    cv2.imwrite(\"Pair_eq\" + str(f_values[x]) + \".jpeg\", pairs[x])\n",
    "\n",
    "#cv2.imwrite(\"filtertest_01_noFilter.jpg\",  f_img)\n",
    "#FINAL_IMAGE = cv2.vconcat([f_img,f_img1])\n",
    "#FINAL_IMAGE = cv2.vconcat([FINAL_IMAGE,f_img2])\n",
    "#FINAL_IMAGE = cv2.vconcat([FINAL_IMAGE,f_img3])\n",
    "\n",
    "def show_filters():\n",
    "    filters = generate_gabor_filters()\n",
    "    return h_concatenate_images(filters)\n",
    "\n",
    "\n",
    "\n",
    "\n",
    "#cv2.imshow(\"Filters\",cv2.resize(show_filters(),(800,100)))\n",
    "#cv2.imshow(str(f_img),cv2.resize(f_img,(1000,100)))\n",
    "cv2.waitKey(0)\n",
    "cv2.destroyAllWindows()"
   ],
   "metadata": {
    "collapsed": false,
    "pycharm": {
     "name": "#%%\n"
    }
   }
  },
  {
   "cell_type": "code",
   "execution_count": 5,
   "outputs": [
    {
     "name": "stdout",
     "output_type": "stream",
     "text": [
      "in init\n",
      "HUH?\n"
     ]
    }
   ],
   "source": [
    "import sys\n",
    "sys.path.append('../Scripts/')\n",
    "\n",
    "\n",
    "from Scripts.Utility import Utility2\n",
    "# util import Utility\n",
    "\n",
    "ut = Utility2()\n",
    "\n",
    "ut.Test()"
   ],
   "metadata": {
    "collapsed": false,
    "pycharm": {
     "name": "#%%\n"
    }
   }
  },
  {
   "cell_type": "code",
   "execution_count": 6,
   "outputs": [
    {
     "name": "stdout",
     "output_type": "stream",
     "text": [
      "3 0.7853981633974483 0.1\n",
      "3 0.7853981633974483 0.25\n",
      "3 0.7853981633974483 0.5\n",
      "3 0.7853981633974483 1.0\n",
      "3 2.356194490192345 0.1\n",
      "3 2.356194490192345 0.25\n",
      "3 2.356194490192345 0.5\n",
      "3 2.356194490192345 1.0\n"
     ]
    }
   ],
   "source": [
    "smoothed_eq_img_arr, smt_arr, f_img, f_values = ut.load_and_process_image(\"/Input/Images/--W00001--P00004--Z00000--T00000--BFP.tif\")\n",
    "\n",
    "pairs = ut.pairs_from_array(smoothed_eq_img_arr, smt_arr)\n",
    "\n",
    "for x in range(len(pairs)):\n",
    "    cv2.imshow(\"Pair\" +  str(f_values[x]) , pairs[x])\n",
    "    cv2.imwrite(\"Pair_eq\" + str(f_values[x]) + \".jpeg\", pairs[x])\n",
    "\n",
    "#cv2.imwrite(\"filtertest_01_noFilter.jpg\",  f_img)\n",
    "#FINAL_IMAGE = cv2.vconcat([f_img,f_img1])\n",
    "#FINAL_IMAGE = cv2.vconcat([FINAL_IMAGE,f_img2])\n",
    "#FINAL_IMAGE = cv2.vconcat([FINAL_IMAGE,f_img3])\n",
    "\n",
    "def show_filters():\n",
    "    filters = generate_gabor_filters()\n",
    "    return h_concatenate_images(filters)\n",
    "\n",
    "\n",
    "\n",
    "\n",
    "#cv2.imshow(\"Filters\",cv2.resize(show_filters(),(800,100)))\n",
    "#cv2.imshow(str(f_img),cv2.resize(f_img,(1000,100)))\n",
    "cv2.waitKey(0)\n",
    "cv2.destroyAllWindows()"
   ],
   "metadata": {
    "collapsed": false,
    "pycharm": {
     "name": "#%%\n"
    }
   }
  },
  {
   "cell_type": "code",
   "execution_count": 7,
   "outputs": [],
   "source": [
    "#get filters [1] and [5] and try to merge\n",
    "\n",
    "filter1 = smoothed_eq_img_arr[1]\n",
    "filter2 = smoothed_eq_img_arr[5]\n",
    "\n",
    "mergedImage  = cv2.addWeighted(filter1, 0.5, filter2, .5, 0)\n",
    "cv2.imshow(\"mergedImage\",cv2.resize(mergedImage,(500,500)))\n",
    "cv2.waitKey(0)\n",
    "cv2.destroyAllWindows()"
   ],
   "metadata": {
    "collapsed": false,
    "pycharm": {
     "name": "#%%\n"
    }
   }
  },
  {
   "cell_type": "code",
   "execution_count": 8,
   "outputs": [],
   "source": [
    "GrayMerged = cv2.cvtColor(mergedImage,cv2.COLOR_BGR2GRAY)\n",
    "ret, thresh = cv2.threshold(GrayMerged,0,255,cv2.THRESH_BINARY_INV+cv2.THRESH_OTSU)"
   ],
   "metadata": {
    "collapsed": false,
    "pycharm": {
     "name": "#%%\n"
    }
   }
  },
  {
   "cell_type": "code",
   "execution_count": 9,
   "outputs": [],
   "source": [
    "def showImage(img):\n",
    "    cv2.imshow(str(img),cv2.resize(img,(500,500)))\n",
    "    cv2.waitKey(0)\n",
    "    cv2.destroyAllWindows()\n",
    "\n",
    "def showImageName(img,name):\n",
    "    cv2.imshow(name,cv2.resize(img,(500,500)))\n",
    "    cv2.waitKey(0)\n",
    "    cv2.destroyAllWindows()\n",
    "thresh = 255-thresh\n",
    "showImage(thresh)"
   ],
   "metadata": {
    "collapsed": false,
    "pycharm": {
     "name": "#%%\n"
    }
   }
  },
  {
   "cell_type": "code",
   "execution_count": 10,
   "outputs": [],
   "source": [
    "# noise removal\n",
    "kernel = np.ones((3,3),np.uint8)\n",
    "opening = cv2.morphologyEx(thresh,cv2.MORPH_OPEN,kernel, iterations = 15)\n",
    "# sure background area\n",
    "sure_bg = cv2.dilate(opening,kernel,iterations=10)\n",
    "# Finding sure foreground area\n",
    "dist_transform = cv2.distanceTransform(opening,cv2.DIST_L2,5)\n",
    "dist_transform = cv2.normalize(dist_transform, dist_transform, 0, 1.0, cv2.NORM_MINMAX)\n",
    "ret, sure_fg = cv2.threshold(dist_transform,0.1*dist_transform.max(),255,0)\n",
    "# Finding unknown region\n",
    "sure_fg = np.uint8(sure_fg)\n",
    "unknown = cv2.subtract(sure_bg,sure_fg)\n",
    "\n",
    "\n",
    "\n",
    "cv2.imshow(\"Input\", cv2.resize(thresh,(500,500)))\n",
    "#cv2.imshow(\"Unknown\", cv2.resize(unknown,(500,500)))\n",
    "cv2.imshow(\"Opening\", cv2.resize(opening,(500,500)))\n",
    "cv2.imshow(\"distTransform\", cv2.resize(dist_transform,(500,500)))\n",
    "#cv2.imshow( \"background\",cv2.resize(sure_bg,(500,500)))\n",
    "cv2.imshow(\"foreground\", cv2.resize(sure_fg,(500,500)))\n",
    "cv2.waitKey(0)\n",
    "cv2.destroyAllWindows()"
   ],
   "metadata": {
    "collapsed": false,
    "pycharm": {
     "name": "#%%\n"
    }
   }
  },
  {
   "cell_type": "code",
   "execution_count": 11,
   "outputs": [
    {
     "ename": "error",
     "evalue": "OpenCV(4.4.0) C:\\Users\\appveyor\\AppData\\Local\\Temp\\1\\pip-req-build-2b5g8ysb\\opencv\\modules\\imgcodecs\\src\\loadsave.cpp:667: error: (-2:Unspecified error) could not find a writer for the specified extension in function 'cv::imwrite_'\n",
     "output_type": "error",
     "traceback": [
      "\u001B[1;31m---------------------------------------------------------------------------\u001B[0m",
      "\u001B[1;31merror\u001B[0m                                     Traceback (most recent call last)",
      "\u001B[1;32m<ipython-input-11-4e3c05dbe2b5>\u001B[0m in \u001B[0;36m<module>\u001B[1;34m\u001B[0m\n\u001B[0;32m     11\u001B[0m \u001B[1;33m\u001B[0m\u001B[0m\n\u001B[0;32m     12\u001B[0m \u001B[0mcv2\u001B[0m\u001B[1;33m.\u001B[0m\u001B[0mimshow\u001B[0m\u001B[1;33m(\u001B[0m\u001B[1;34m\"foreground\"\u001B[0m\u001B[1;33m,\u001B[0m \u001B[0mcv2\u001B[0m\u001B[1;33m.\u001B[0m\u001B[0mresize\u001B[0m\u001B[1;33m(\u001B[0m\u001B[0mmergedImage\u001B[0m\u001B[1;33m,\u001B[0m\u001B[1;33m(\u001B[0m\u001B[1;36m500\u001B[0m\u001B[1;33m,\u001B[0m\u001B[1;36m500\u001B[0m\u001B[1;33m)\u001B[0m\u001B[1;33m)\u001B[0m\u001B[1;33m)\u001B[0m\u001B[1;33m\u001B[0m\u001B[1;33m\u001B[0m\u001B[0m\n\u001B[1;32m---> 13\u001B[1;33m \u001B[0mcv2\u001B[0m\u001B[1;33m.\u001B[0m\u001B[0mimwrite\u001B[0m\u001B[1;33m(\u001B[0m\u001B[1;34m\"WaterShedSegmented\"\u001B[0m\u001B[1;33m,\u001B[0m\u001B[0mmergedImage\u001B[0m\u001B[1;33m)\u001B[0m\u001B[1;33m\u001B[0m\u001B[1;33m\u001B[0m\u001B[0m\n\u001B[0m\u001B[0;32m     14\u001B[0m \u001B[0mcv2\u001B[0m\u001B[1;33m.\u001B[0m\u001B[0mwaitKey\u001B[0m\u001B[1;33m(\u001B[0m\u001B[1;36m0\u001B[0m\u001B[1;33m)\u001B[0m\u001B[1;33m\u001B[0m\u001B[1;33m\u001B[0m\u001B[0m\n\u001B[0;32m     15\u001B[0m \u001B[0mcv2\u001B[0m\u001B[1;33m.\u001B[0m\u001B[0mdestroyAllWindows\u001B[0m\u001B[1;33m(\u001B[0m\u001B[1;33m)\u001B[0m\u001B[1;33m\u001B[0m\u001B[1;33m\u001B[0m\u001B[0m\n",
      "\u001B[1;31merror\u001B[0m: OpenCV(4.4.0) C:\\Users\\appveyor\\AppData\\Local\\Temp\\1\\pip-req-build-2b5g8ysb\\opencv\\modules\\imgcodecs\\src\\loadsave.cpp:667: error: (-2:Unspecified error) could not find a writer for the specified extension in function 'cv::imwrite_'\n"
     ]
    }
   ],
   "source": [
    "# Marker labelling\n",
    "\n",
    "ret, markers = cv2.connectedComponents(sure_fg)\n",
    "# Add one to all labels so that sure background is not 0, but 1\n",
    "markers = markers+1\n",
    "# Now, mark the region of unknown with zero\n",
    "markers[unknown==255] = 0\n",
    "\n",
    "markers = cv2.watershed(mergedImage,markers)\n",
    "mergedImage[markers == -1] = [255,0,0]\n",
    "\n",
    "cv2.imshow(\"foreground\", cv2.resize(mergedImage,(500,500)))"
   ],
   "metadata": {
    "collapsed": false,
    "pycharm": {
     "name": "#%%\n"
    }
   }
  },
  {
   "cell_type": "code",
   "execution_count": 12,
   "outputs": [],
   "source": [
    "cv2.imwrite(\"WaterShedSegmented.jpeg\",mergedImage)\n",
    "cv2.waitKey(0)\n",
    "cv2.destroyAllWindows()"
   ],
   "metadata": {
    "collapsed": false,
    "pycharm": {
     "name": "#%%\n"
    }
   }
  }
 ],
 "metadata": {
  "kernelspec": {
   "name": "conda-env-ImageSegmentation-py",
   "language": "python",
   "display_name": "Python [conda env:ImageSegmentation] *"
  },
  "language_info": {
   "codemirror_mode": {
    "name": "ipython",
    "version": 2
   },
   "file_extension": ".py",
   "mimetype": "text/x-python",
   "name": "python",
   "nbconvert_exporter": "python",
   "pygments_lexer": "ipython2",
   "version": "2.7.6"
  },
  "pycharm": {
   "stem_cell": {
    "cell_type": "raw",
    "source": [
     "###Header\n",
     "Is this a markdown cell\n"
    ],
    "metadata": {
     "collapsed": false
    }
   }
  }
 },
 "nbformat": 4,
 "nbformat_minor": 0
}