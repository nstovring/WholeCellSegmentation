{
 "cells": [
  {
   "cell_type": "code",
   "execution_count": 3,
   "metadata": {
    "collapsed": true,
    "pycharm": {
     "name": "#%%\n"
    }
   },
   "outputs": [],
   "source": [
    "import numpy as np\n",
    "import cv2\n",
    "import  matplotlib.pyplot as plt\n",
    "import os"
   ]
  },
  {
   "cell_type": "code",
   "execution_count": 19,
   "outputs": [
    {
     "name": "stdout",
     "output_type": "stream",
     "text": [
      "3 0.7853981633974483 0.1\n",
      "3 0.7853981633974483 0.25\n",
      "3 0.7853981633974483 0.5\n",
      "3 0.7853981633974483 1.0\n",
      "3 2.356194490192345 0.1\n",
      "3 2.356194490192345 0.25\n",
      "3 2.356194490192345 0.5\n",
      "3 2.356194490192345 1.0\n",
      "3 0.7853981633974483 0.1\n",
      "3 0.7853981633974483 0.25\n",
      "3 0.7853981633974483 0.5\n",
      "3 0.7853981633974483 1.0\n",
      "3 2.356194490192345 0.1\n",
      "3 2.356194490192345 0.25\n",
      "3 2.356194490192345 0.5\n",
      "3 2.356194490192345 1.0\n",
      "3 0.7853981633974483 0.1\n",
      "3 0.7853981633974483 0.25\n",
      "3 0.7853981633974483 0.5\n",
      "3 0.7853981633974483 1.0\n",
      "3 2.356194490192345 0.1\n",
      "3 2.356194490192345 0.25\n",
      "3 2.356194490192345 0.5\n",
      "3 2.356194490192345 1.0\n",
      "3 0.7853981633974483 0.1\n",
      "3 0.7853981633974483 0.25\n",
      "3 0.7853981633974483 0.5\n",
      "3 0.7853981633974483 1.0\n",
      "3 2.356194490192345 0.1\n",
      "3 2.356194490192345 0.25\n",
      "3 2.356194490192345 0.5\n",
      "3 2.356194490192345 1.0\n"
     ]
    }
   ],
   "source": [
    "root_dir = os.path.abspath(\"../\")\n",
    "\n",
    "def load_and_process_image(path):\n",
    "    images = []\n",
    "    smoothImages = []\n",
    "\n",
    "    #load image\n",
    "    img = cv2.imread(root_dir+path)\n",
    "    images.append(img)\n",
    "    # histogram equalization on image\n",
    "    #img_eq = histogram_equalization(img)\n",
    "    #final_image = cv2.hconcat([img,img_eq])\n",
    "    #images.append(img_eq)\n",
    "    # apply gabor filters on equalized image\n",
    "    filters, filterValues = generate_gabor_filters()\n",
    "\n",
    "    for x in range(len(filters)):\n",
    "        fimg = cv2.filter2D(img,cv2.CV_8UC3,filters[x]) #img_eq\n",
    "\n",
    "        n=13; #where n*n is the size of filter\n",
    "        smoothed_image = cv2.medianBlur(fimg, n)\n",
    "        smoothImages.append(smoothed_image)\n",
    "\n",
    "        mg_eq = histogram_equalization(smoothed_image)\n",
    "        images.append(mg_eq)\n",
    "        #final_image= cv2.hconcat([final_image,fimg])\n",
    "\n",
    "    final_image = h_concatenate_images(images)\n",
    "    return images, smoothImages, final_image, filterValues\n",
    "\n",
    "\n",
    "def histogram_equalization(img_in):\n",
    "    # segregate color streams\n",
    "    #image = cv2.imread(img_in)\n",
    "    #b,g, r = img_in\n",
    "    b,g,r =  cv2.split(img_in)\n",
    "    h_b, bin_b = np.histogram(b.flatten(), 256, [0, 256])\n",
    "    h_g, bin_g = np.histogram(g.flatten(), 256, [0, 256])\n",
    "    h_r, bin_r = np.histogram(r.flatten(), 256, [0, 256])\n",
    "# calculate cdf\n",
    "    cdf_b = np.cumsum(h_b)\n",
    "    cdf_g = np.cumsum(h_g)\n",
    "    cdf_r = np.cumsum(h_r)\n",
    "\n",
    "# mask all pixels with value=0 and replace it with mean of the pixel values\n",
    "    cdf_m_b = np.ma.masked_equal(cdf_b,0)\n",
    "    cdf_m_b = (cdf_m_b - cdf_m_b.min())*255/(cdf_m_b.max()-cdf_m_b.min())\n",
    "    cdf_final_b = np.ma.filled(cdf_m_b,0).astype('uint8')\n",
    "\n",
    "    cdf_m_g = np.ma.masked_equal(cdf_g,0)\n",
    "    cdf_m_g = (cdf_m_g - cdf_m_g.min())*255/(cdf_m_g.max()-cdf_m_g.min())\n",
    "    cdf_final_g = np.ma.filled(cdf_m_g,0).astype('uint8')\n",
    "    cdf_m_r = np.ma.masked_equal(cdf_r,0)\n",
    "    cdf_m_r = (cdf_m_r - cdf_m_r.min())*255/(cdf_m_r.max()-cdf_m_r.min())\n",
    "    cdf_final_r = np.ma.filled(cdf_m_r,0).astype('uint8')\n",
    "# merge the images in the three channels\n",
    "    img_b = cdf_final_b[b]\n",
    "    img_g = cdf_final_g[g]\n",
    "    img_r = cdf_final_r[r]\n",
    "\n",
    "    img_out = cv2.merge((img_b, img_g, img_r))\n",
    "# validation\n",
    "   #equ_b = cv2.equalizeHist(b)\n",
    "   #equ_g = cv2.equalizeHist(g)\n",
    "   #equ_r = cv2.equalizeHist(r)\n",
    "   #equ = cv2.merge((equ_b, equ_g, equ_r))\n",
    "    #print(equ)\n",
    "    #cv2.imwrite('output_name.png', equ)\n",
    "    return img_out\n",
    "    #cv2.imshow(str(img),img)\n",
    "    #cv2.waitKey(0)\n",
    "    #cv2.destroyAllWindows()\n",
    "\n",
    "def generate_gabor_filters():\n",
    "\n",
    "    k = (50,50)\n",
    "    sigma = 3\n",
    "    theta = 1*np.pi/4\n",
    "    lamda = 1*np.pi/4  #1/4 works best for angled.\n",
    "    #gamma = .78 #.5 and .78 yields results\n",
    "    gammArr = [.1,0.25,0.5,1.0]\n",
    "    phi = 0\n",
    "    filters = []\n",
    "    values = []\n",
    "    for x in range(1,4,2):\n",
    "        theta = x*np.pi/4\n",
    "        for y in gammArr:\n",
    "            gamma = y\n",
    "            kernel = cv2.getGaborKernel(k, sigma, theta, lamda, gamma, phi, ktype=cv2.CV_32F)\n",
    "            #kernel = cv2.resize(kernel, (32,32))\n",
    "            value = (\"Sigma\", sigma, \"Theta\", theta, \"Gamma\", gamma)\n",
    "            values.append(value)\n",
    "            filters.append(kernel)\n",
    "            print(sigma,theta, gamma)\n",
    "\n",
    "    return filters, values\n",
    "\n",
    "def h_concatenate_images(imgArr):\n",
    "    _img = imgArr[0]\n",
    "    for x in range(len(imgArr)-1):\n",
    "        _img = cv2.hconcat([_img,imgArr[x+1]])\n",
    "    return _img\n",
    "\n",
    "def v_concatenate_images(imgArr):\n",
    "    _img = imgArr[0]\n",
    "    for x in range(len(imgArr)-1):\n",
    "        _img = cv2.vconcat([_img,imgArr[x+1]])\n",
    "    return _img\n",
    "\n",
    "def pairs_from_array(arr1,arr2):\n",
    "    out=[]\n",
    "    arr1 = arr1[1:]\n",
    "    for x in range(len(arr1)):\n",
    "        im1 = arr1[x]\n",
    "        im2 = arr2[x]\n",
    "        _img = cv2.hconcat([im1,im2])\n",
    "        out.append(_img)\n",
    "    return  out\n",
    "\n",
    "\n",
    "smoothed_eq_img_arr, smt_arr, f_img, f_values = load_and_process_image(\"/Input/Images/--W00001--P00004--Z00000--T00000--BFP.tif\")\n",
    "smoothed_eq_img_arr1, smt_arr1, fimg1, f_values1 = load_and_process_image(\"/Input/Images/--W00001--P00004--Z00000--T00000--DsRed.tif\")\n",
    "smoothed_eq_img_arr2, smt_arr2, fimg2, f_values2 = load_and_process_image(\"/Input/Images/--W00001--P00004--Z00000--T00000--eGFP.tif\")\n",
    "smoothed_eq_img_arr3, smt_arr3, fimg3, f_values3 = load_and_process_image(\"/Input/Images/--W00001--P00004--Z00000--T00000--miRFP.tif\")\n",
    "\n",
    "pairs = pairs_from_array(smoothed_eq_img_arr, smt_arr)\n",
    "\n",
    "for x in range(len(pairs)):\n",
    "    cv2.imshow(\"Pair\" +  str(f_values[x]) , pairs[x])\n",
    "    cv2.imwrite(\"Pair_eq\" + str(f_values[x]) + \".jpeg\", pairs[x])\n",
    "\n",
    "#cv2.imwrite(\"filtertest_01_noFilter.jpg\",  f_img)\n",
    "#FINAL_IMAGE = cv2.vconcat([f_img,f_img1])\n",
    "#FINAL_IMAGE = cv2.vconcat([FINAL_IMAGE,f_img2])\n",
    "#FINAL_IMAGE = cv2.vconcat([FINAL_IMAGE,f_img3])\n",
    "\n",
    "def show_filters():\n",
    "    filters = generate_gabor_filters()\n",
    "    return h_concatenate_images(filters)\n",
    "\n",
    "\n",
    "\n",
    "\n",
    "#cv2.imshow(\"Filters\",cv2.resize(show_filters(),(800,100)))\n",
    "#cv2.imshow(str(f_img),cv2.resize(f_img,(1000,100)))\n",
    "cv2.waitKey(0)\n",
    "cv2.destroyAllWindows()"
   ],
   "metadata": {
    "collapsed": false,
    "pycharm": {
     "name": "#%%\n"
    }
   }
  },
  {
   "cell_type": "code",
   "execution_count": 5,
   "outputs": [
    {
     "name": "stdout",
     "output_type": "stream",
     "text": [
      "in init\n",
      "HUH?\n"
     ]
    }
   ],
   "source": [
    "import sys\n",
    "sys.path.append('../Scripts/')\n",
    "\n",
    "\n",
    "from Scripts.Utility import Utility2\n",
    "# util import Utility\n",
    "\n",
    "ut = Utility2()\n",
    "\n",
    "ut.Test()"
   ],
   "metadata": {
    "collapsed": false,
    "pycharm": {
     "name": "#%%\n"
    }
   }
  },
  {
   "cell_type": "code",
   "execution_count": 6,
   "outputs": [
    {
     "name": "stdout",
     "output_type": "stream",
     "text": [
      "3 0.7853981633974483 0.1\n",
      "3 0.7853981633974483 0.25\n",
      "3 0.7853981633974483 0.5\n",
      "3 0.7853981633974483 1.0\n",
      "3 2.356194490192345 0.1\n",
      "3 2.356194490192345 0.25\n",
      "3 2.356194490192345 0.5\n",
      "3 2.356194490192345 1.0\n"
     ]
    }
   ],
   "source": [
    "smoothed_eq_img_arr, smt_arr, f_img, f_values = ut.load_and_process_image(\"/Input/Images/--W00001--P00004--Z00000--T00000--BFP.tif\")\n",
    "\n",
    "pairs = ut.pairs_from_array(smoothed_eq_img_arr, smt_arr)\n",
    "\n",
    "for x in range(len(pairs)):\n",
    "    cv2.imshow(\"Pair\" +  str(f_values[x]) , pairs[x])\n",
    "    cv2.imwrite(\"Pair_eq\" + str(f_values[x]) + \".jpeg\", pairs[x])\n",
    "\n",
    "#cv2.imwrite(\"filtertest_01_noFilter.jpg\",  f_img)\n",
    "#FINAL_IMAGE = cv2.vconcat([f_img,f_img1])\n",
    "#FINAL_IMAGE = cv2.vconcat([FINAL_IMAGE,f_img2])\n",
    "#FINAL_IMAGE = cv2.vconcat([FINAL_IMAGE,f_img3])\n",
    "\n",
    "def show_filters():\n",
    "    filters = generate_gabor_filters()\n",
    "    return h_concatenate_images(filters)\n",
    "\n",
    "\n",
    "\n",
    "\n",
    "#cv2.imshow(\"Filters\",cv2.resize(show_filters(),(800,100)))\n",
    "#cv2.imshow(str(f_img),cv2.resize(f_img,(1000,100)))\n",
    "cv2.waitKey(0)\n",
    "cv2.destroyAllWindows()"
   ],
   "metadata": {
    "collapsed": false,
    "pycharm": {
     "name": "#%%\n"
    }
   }
  },
  {
   "cell_type": "code",
   "execution_count": 21,
   "outputs": [],
   "source": [
    "#get filters [1] and [5] and try to merge\n",
    "\n",
    "filter1 = smoothed_eq_img_arr[1]\n",
    "filter2 = smoothed_eq_img_arr[5]\n",
    "\n",
    "mergedImage  = cv2.addWeighted(filter1, 0.5, filter2, .5, 0)\n",
    "mergedImage1  = cv2.addWeighted(smoothed_eq_img_arr1[1], 0.5, smoothed_eq_img_arr1[5], .5, 0)\n",
    "mergedImage2  = cv2.addWeighted(smoothed_eq_img_arr2[1], 0.5, smoothed_eq_img_arr2[5], .5, 0)\n",
    "mergedImage3  = cv2.addWeighted(smoothed_eq_img_arr3[1], 0.5, smoothed_eq_img_arr3[5], .5, 0)\n",
    "cv2.imshow(\"mergedImage\",cv2.resize(mergedImage,(500,500)))\n",
    "cv2.imshow(\"mergedImage1\",cv2.resize(mergedImage1,(500,500)))\n",
    "cv2.imshow(\"mergedImage2\",cv2.resize(mergedImage2,(500,500)))\n",
    "cv2.imshow(\"mergedImage3\",cv2.resize(mergedImage3,(500,500)))\n",
    "\n",
    "\n",
    "cv2.waitKey(0)\n",
    "cv2.destroyAllWindows()"
   ],
   "metadata": {
    "collapsed": false,
    "pycharm": {
     "name": "#%%\n"
    }
   }
  },
  {
   "cell_type": "code",
   "execution_count": 22,
   "outputs": [],
   "source": [
    "GrayMerged = cv2.cvtColor(mergedImage,cv2.COLOR_BGR2GRAY)\n",
    "GrayMerged1 = cv2.cvtColor(mergedImage1,cv2.COLOR_BGR2GRAY)\n",
    "GrayMerged2 = cv2.cvtColor(mergedImage2,cv2.COLOR_BGR2GRAY)\n",
    "GrayMerged3 = cv2.cvtColor(mergedImage3,cv2.COLOR_BGR2GRAY)\n",
    "ret, thresh = cv2.threshold(GrayMerged,0,255,cv2.THRESH_BINARY_INV+cv2.THRESH_OTSU)\n",
    "ret1, thresh1 = cv2.threshold(GrayMerged1,0,255,cv2.THRESH_BINARY_INV+cv2.THRESH_OTSU)\n",
    "ret2, thresh2 = cv2.threshold(GrayMerged2,0,255,cv2.THRESH_BINARY_INV+cv2.THRESH_OTSU)\n",
    "ret3, thresh3 = cv2.threshold(GrayMerged3,0,255,cv2.THRESH_BINARY_INV+cv2.THRESH_OTSU)"
   ],
   "metadata": {
    "collapsed": false,
    "pycharm": {
     "name": "#%%\n"
    }
   }
  },
  {
   "cell_type": "code",
   "execution_count": 23,
   "outputs": [],
   "source": [
    "thresh = 255-thresh\n",
    "thresh1 = 255-thresh1\n",
    "thresh2 = 255-thresh2\n",
    "thresh3 = 255-thresh3"
   ],
   "metadata": {
    "collapsed": false,
    "pycharm": {
     "name": "#%%\n"
    }
   }
  },
  {
   "cell_type": "code",
   "execution_count": 29,
   "outputs": [],
   "source": [
    "mergedImages = [mergedImage, mergedImage1, mergedImage2, mergedImage3]\n",
    "thresholds = [thresh,thresh1,thresh2,thresh3]\n",
    "markersArr = []\n",
    "markersApplied = []\n",
    "\n",
    "# noise removal\n",
    "kernel = np.ones((3,3),np.uint8)\n",
    "for x in range(len(thresholds)):\n",
    "\n",
    "\n",
    "    opening = cv2.morphologyEx(thresholds[x],cv2.MORPH_OPEN,kernel, iterations = 15)\n",
    "    # sure background area\n",
    "    sure_bg = cv2.dilate(opening,kernel,iterations=10)\n",
    "    # Finding sure foreground area\n",
    "    dist_transform = cv2.distanceTransform(opening,cv2.DIST_L2,5)\n",
    "    dist_transform = cv2.normalize(dist_transform, dist_transform, 0, 1.0, cv2.NORM_MINMAX)\n",
    "    ret, sure_fg = cv2.threshold(dist_transform,0.1*dist_transform.max(),255,0)\n",
    "    # Finding unknown region\n",
    "    sure_fg = np.uint8(sure_fg)\n",
    "    unknown = cv2.subtract(sure_bg,sure_fg)\n",
    "\n",
    "\n",
    "\n",
    "#cv2.imshow(\"Input\", cv2.resize(thresh,(500,500)))\n",
    "#cv2.imshow(\"Unknown\", cv2.resize(unknown,(500,500)))\n",
    "#cv2.imshow(\"Opening\", cv2.resize(opening,(500,500)))\n",
    "#cv2.imshow(\"distTransform\", cv2.resize(dist_transform,(500,500)))\n",
    "##cv2.imshow( \"background\",cv2.resize(sure_bg,(500,500)))\n",
    "#cv2.imshow(\"foreground\", cv2.resize(sure_fg,(500,500)))\n",
    "#cv2.waitKey(0)\n",
    "#cv2.destroyAllWindows()\n",
    "\n",
    "# Marker labelling\n",
    "\n",
    "    ret, markers = cv2.connectedComponents(sure_fg)\n",
    "    # Add one to all labels so that sure background is not 0, but 1\n",
    "    markers = markers+1\n",
    "    # Now, mark the region of unknown with zero\n",
    "    markers[unknown==255] = 0\n",
    "\n",
    "    markers = cv2.watershed(mergedImages[x],markers)\n",
    "    markersArr.append(markers)\n",
    "    mergedImages[x][markers == -1] = [255,0,0]\n",
    "    markersApplied.append(mergedImages[x])\n",
    "    cv2.imshow(\"foreground\"+str(x), cv2.resize(mergedImages[x],(500,500)))\n",
    "cv2.waitKey(0)\n",
    "cv2.destroyAllWindows()"
   ],
   "metadata": {
    "collapsed": false,
    "pycharm": {
     "name": "#%%\n"
    }
   }
  },
  {
   "cell_type": "code",
   "execution_count": 35,
   "outputs": [],
   "source": [
    "AllMarkedImages=ut.h_concatenate_images(markersApplied)\n",
    "cv2.imshow(\"WaterShedSegmented\" + str(x)+\".jpeg\",cv2.resize(AllMarkedImages,(2000,500)))\n",
    "cv2.waitKey(0)\n",
    "cv2.destroyAllWindows()"
   ],
   "metadata": {
    "collapsed": false,
    "pycharm": {
     "name": "#%%\n"
    }
   }
  },
  {
   "cell_type": "code",
   "execution_count": 32,
   "outputs": [],
   "source": [],
   "metadata": {
    "collapsed": false,
    "pycharm": {
     "name": "#%%\n"
    }
   }
  },
  {
   "cell_type": "code",
   "execution_count": 18,
   "outputs": [],
   "source": [
    "path= r\"C:\\Users\\Jeppe\\Documents\\School\\Med9\\WholeCellSegmentation\\Input\\Images\\--W00001--P00004--Z00000--T00000--Trans.tif\"\n",
    "tranlight= cv2.imread(path)\n",
    "\n",
    "tranlight[markers==-1] = [255,0,0]\n",
    "tranlight[markers==18] = [0,255,0]\n",
    "tranlight[markers==6] = [0,0,255]\n",
    "cv2.imshow(\"TransmittedLightMarkers\", tranlight)\n",
    "cv2.imwrite(\"TransmittedLightMarkers.jpg\", tranlight)\n",
    "cv2.waitKey(0)\n",
    "cv2.destroyAllWindows()"
   ],
   "metadata": {
    "collapsed": false,
    "pycharm": {
     "name": "#%%\n"
    }
   }
  }
 ],
 "metadata": {
  "kernelspec": {
   "name": "conda-env-ImageSegmentation-py",
   "language": "python",
   "display_name": "Python [conda env:ImageSegmentation] *"
  },
  "language_info": {
   "codemirror_mode": {
    "name": "ipython",
    "version": 2
   },
   "file_extension": ".py",
   "mimetype": "text/x-python",
   "name": "python",
   "nbconvert_exporter": "python",
   "pygments_lexer": "ipython2",
   "version": "2.7.6"
  },
  "pycharm": {
   "stem_cell": {
    "cell_type": "raw",
    "source": [
     "###Header\n",
     "Is this a markdown cell\n"
    ],
    "metadata": {
     "collapsed": false
    }
   }
  }
 },
 "nbformat": 4,
 "nbformat_minor": 0
}