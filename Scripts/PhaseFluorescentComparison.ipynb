{
 "cells": [
  {
   "cell_type": "code",
   "execution_count": 6,
   "metadata": {
    "collapsed": true
   },
   "outputs": [
    {
     "name": "stdout",
     "output_type": "stream",
     "text": [
      "in init\n"
     ]
    }
   ],
   "source": [
    "import numpy as np\n",
    "import cv2\n",
    "import os\n",
    "from  Scripts.Utility import Utility2\n",
    "util = Utility2()\n"
   ]
  },
  {
   "cell_type": "markdown",
   "source": [
    "### Compare zoom levels of same image\n",
    "\n",
    "Using the same position, compare all three zoom-levels"
   ],
   "metadata": {
    "collapsed": false,
    "pycharm": {
     "name": "#%% md\n"
    }
   }
  },
  {
   "cell_type": "code",
   "execution_count": 7,
   "outputs": [],
   "source": [
    "root_dir = os.path.abspath(\"../\")\n",
    "path= '/Scripts/TestImages' #skal have '/' før Scripts\n",
    "\n",
    "images= util.loadImages(path)\n",
    "unaltered_images = util.loadImages(path)\n",
    "\n",
    "gray_images = []\n",
    "tresh_images = []\n",
    "for x in range(len(images)):\n",
    "    gray_images.append(cv2.cvtColor(images[x], cv2.COLOR_BGR2GRAY))\n",
    "\n",
    "tresh_images = util.thresholdImages(gray_images, invert=False)\n",
    "cv2.imwrite(\"Tresholded_channel.jpg\",tresh_images[4] )\n",
    "cv2.imwrite(\"FluorescentInput.jpg\", images[4])\n",
    "\n",
    "#fluorescent is 0,2,4\n",
    "pairs = []\n",
    "\n",
    "_merge = cv2.addWeighted(gray_images[1], 0.5, tresh_images[0],0.5, 0.0)\n",
    "pairs.append(_merge)"
   ],
   "metadata": {
    "collapsed": false,
    "pycharm": {
     "name": "#%%\n"
    }
   }
  },
  {
   "cell_type": "code",
   "execution_count": 12,
   "outputs": [],
   "source": [
    "# noise removal\n",
    "#kernel = np.ones((3,3),np.uint8)\n",
    "#opening = cv2.morphologyEx(tresh_images[0],cv2.MORPH_OPEN,kernel, iterations = 2)\n",
    "## sure background area\n",
    "#sure_bg = cv2.dilate(opening,kernel,iterations=3)\n",
    "##cv2.imshow(\"sure_bg0\",cv2.resize(tresh_images[0],(500,500)))\n",
    "##cv2.imshow(\"sure_bg\",cv2.resize(sure_bg,(500,500)))\n",
    "#\n",
    "## Finding sure foreground area\n",
    "#dist_transform = cv2.distanceTransform(opening,cv2.DIST_L2,5)\n",
    "#ret, sure_fg = cv2.threshold(dist_transform,0.7*dist_transform.max(),255,0)\n",
    "## Finding unknown region\n",
    "#sure_fg = np.uint8(sure_fg)\n",
    "#unknown = cv2.subtract(sure_bg,sure_fg)\n",
    "#cv2.imshow(\"unknown\",cv2.resize(unknown,(500,500)))\n",
    "# Marker labelling\n",
    "num_markers, markers = cv2.connectedComponents(tresh_images[4])\n",
    "\n",
    "test_img = images[5]\n",
    "\n",
    "\n",
    "# Markers: 0 is Bacground\n",
    "test_img[markers == 1] = [255,0,0] #BLUE  1: top right blob\n",
    "test_img[markers == 18] = [0,255,0] # GREEN  10 big blob (18)\n",
    "test_img[markers == 49] = [0,0,255] # RED 6: left most blob (49)"
   ],
   "metadata": {
    "collapsed": false,
    "pycharm": {
     "name": "#%%\n"
    }
   }
  },
  {
   "cell_type": "code",
   "execution_count": 21,
   "outputs": [
    {
     "name": "stdout",
     "output_type": "stream",
     "text": [
      "4060208\n",
      "4194304\n",
      "0.9680290222167969\n"
     ]
    }
   ],
   "source": [
    "bg = np.where(markers==0)\n",
    "x,y = bg\n",
    "print(len(x))\n",
    "print(2048*2048)\n",
    "print(len(x)/(2048*2048))\n"
   ],
   "metadata": {
    "collapsed": false,
    "pycharm": {
     "name": "#%% count amount of markers == 0\n"
    }
   }
  },
  {
   "cell_type": "code",
   "execution_count": 19,
   "outputs": [],
   "source": [
    "#cv2.imshow(\"TestLabeling0\", cv2.resize(test_img,(500,500)))\n",
    "#cv2.imwrite(\"LabeledImage.jpg\", test_img)\n",
    "\n",
    "\n",
    "alpha = 0.5\n",
    "beta = 1-alpha\n",
    "test2 = cv2.addWeighted(test_img,alpha,unaltered_images[5],beta,0.0)\n",
    "#cv2.imshow(\"Test\", cv2.resize(test_img,(500,500)))\n",
    "#cv2.imshow(\"Original\", cv2.resize(unaltered_images[5],(500,500)))\n",
    "#cv2.imshow(\"TestMerge\", cv2.resize(test2,(500,500)))\n",
    "#cv2.imwrite(\"LabeledMerge2.jpg\", test2)\n",
    "\n",
    "\n",
    "collection = [gray_images[4], tresh_images[4],test2 ]\n",
    "#col2 = []\n",
    "\n",
    "#billede= util.h_concatenate_images(col2)\n",
    "\n",
    "util.showImages(collection, scale=(500,500))"
   ],
   "metadata": {
    "collapsed": false,
    "pycharm": {
     "name": "#%%\n"
    }
   }
  },
  {
   "cell_type": "code",
   "execution_count": 9,
   "outputs": [],
   "source": [
    "#im2, contours, hierarchy = cv2.findContours(test_img, cv2.RETR_TREE, cv2.CHAIN_APPROX_SIMPLE)"
   ],
   "metadata": {
    "collapsed": false,
    "pycharm": {
     "name": "#%%\n"
    }
   }
  },
  {
   "cell_type": "code",
   "execution_count": 10,
   "outputs": [
    {
     "data": {
      "text/plain": "<Figure size 432x288 with 1 Axes>",
      "image/png": "[encoded data removed]"
     },
     "metadata": {
      "needs_background": "light"
     },
     "output_type": "display_data"
    }
   ],
   "source": [
    "import matplotlib.pyplot as plt\n",
    "plt.imshow(markers)\n",
    "plt.show()"
   ],
   "metadata": {
    "collapsed": false,
    "pycharm": {
     "name": "#%%\n"
    }
   }
  },
  {
   "cell_type": "code",
   "execution_count": 11,
   "outputs": [
    {
     "name": "stdout",
     "output_type": "stream",
     "text": [
      "None is false\n"
     ]
    }
   ],
   "source": [
    "blarg = False\n",
    "\n",
    "\n",
    "if blarg is False:\n",
    "    print(\"None is false\")"
   ],
   "metadata": {
    "collapsed": false,
    "pycharm": {
     "name": "#%%\n"
    }
   }
  },
  {
   "cell_type": "code",
   "execution_count": 2,
   "outputs": [
    {
     "name": "stdout",
     "output_type": "stream",
     "text": [
      "Well1_Positions1\n",
      "Well1_Positions2\n",
      "Well1_Positions3\n",
      "Well1_Positions4\n",
      "Well1_Positions5\n",
      "Well1_Positions6\n",
      "Well1_Positions7\n",
      "Well1_Positions8\n",
      "Well1_Positions9\n",
      "Well1_Positions10\n",
      "Well1_Positions11\n",
      "Well1_Positions12\n",
      "Well1_Positions13\n",
      "Well1_Positions14\n",
      "Well1_Positions15\n",
      "Well1_Positions16\n",
      "Well2_Positions1\n",
      "Well2_Positions2\n",
      "Well2_Positions3\n",
      "Well2_Positions4\n",
      "Well2_Positions5\n",
      "Well2_Positions6\n",
      "Well2_Positions7\n",
      "Well2_Positions8\n",
      "Well2_Positions9\n",
      "Well2_Positions10\n",
      "Well2_Positions11\n",
      "Well2_Positions12\n",
      "Well2_Positions13\n",
      "Well2_Positions14\n",
      "Well2_Positions15\n",
      "Well2_Positions16\n",
      "Well3_Positions1\n",
      "Well3_Positions2\n",
      "Well3_Positions3\n",
      "Well3_Positions4\n",
      "Well3_Positions5\n",
      "Well3_Positions6\n",
      "Well3_Positions7\n",
      "Well3_Positions8\n",
      "Well3_Positions9\n",
      "Well3_Positions10\n",
      "Well3_Positions11\n",
      "Well3_Positions12\n",
      "Well3_Positions13\n",
      "Well3_Positions14\n",
      "Well3_Positions15\n",
      "Well3_Positions16\n",
      "Well4_Positions1\n",
      "Well4_Positions2\n",
      "Well4_Positions3\n",
      "Well4_Positions4\n",
      "Well4_Positions5\n",
      "Well4_Positions6\n",
      "Well4_Positions7\n",
      "Well4_Positions8\n",
      "Well4_Positions9\n",
      "Well4_Positions10\n",
      "Well4_Positions11\n",
      "Well4_Positions12\n",
      "Well4_Positions13\n",
      "Well4_Positions14\n",
      "Well4_Positions15\n",
      "Well4_Positions16\n",
      "Well5_Positions1\n",
      "Well5_Positions2\n",
      "Well5_Positions3\n",
      "Well5_Positions4\n",
      "Well5_Positions5\n",
      "Well5_Positions6\n",
      "Well5_Positions7\n",
      "Well5_Positions8\n",
      "Well5_Positions9\n",
      "Well5_Positions10\n",
      "Well5_Positions11\n",
      "Well5_Positions12\n",
      "Well5_Positions13\n",
      "Well5_Positions14\n",
      "Well5_Positions15\n",
      "Well5_Positions16\n",
      "Well6_Positions1\n",
      "Well6_Positions2\n",
      "Well6_Positions3\n",
      "Well6_Positions4\n",
      "Well6_Positions5\n",
      "Well6_Positions6\n",
      "Well6_Positions7\n",
      "Well6_Positions8\n",
      "Well6_Positions9\n",
      "Well6_Positions10\n",
      "Well6_Positions11\n",
      "Well6_Positions12\n",
      "Well6_Positions13\n",
      "Well6_Positions14\n",
      "Well6_Positions15\n",
      "Well6_Positions16\n"
     ]
    }
   ],
   "source": [
    "Wells= [1,2,3,4,5,6]\n",
    "Positions = [1,2,3,4,5,6,7,8,9,10,11,12,13,14,15,16]\n",
    "\n",
    "for x in Wells:\n",
    "    for y in Positions:\n",
    "        print(\"Well\"+str(x)+\"_Positions\"+str(y))"
   ],
   "metadata": {
    "collapsed": false,
    "pycharm": {
     "name": "#%%\n"
    }
   }
  },
  {
   "cell_type": "code",
   "execution_count": 7,
   "outputs": [
    {
     "name": "stdout",
     "output_type": "stream",
     "text": [
      "AllPos0\n",
      "W: 1 P: -32\n"
     ]
    }
   ],
   "source": [
    "# 6 wells\n",
    "#   16 pos x 3 zooms\n",
    "    #x positions are always in the 3rd zoom level\n",
    "\n",
    "    #ex:  x = 1 -> 1st image of 3rd zoom level, well 1 =\n",
    "def Well_Pos_from_X(x):\n",
    "\n",
    "    #Find the well x is in\n",
    "    AllPos = x % 16\n",
    "    print(\"AllPos\"+str(AllPos))\n",
    "    #find the position in the well\n",
    "    Well=  int(AllPos/5)+1\n",
    "    Position = x-(Well*16*3)\n",
    "    print(\"W: \"+str(Well), \"P: \"+str(Position))\n",
    "\n",
    "Well_Pos_from_X(16)\n",
    "\n",
    "\n",
    "\n",
    "\n",
    "\n"
   ],
   "metadata": {
    "collapsed": false,
    "pycharm": {
     "name": "#%%\n"
    }
   }
  }
 ],
 "metadata": {
  "kernelspec": {
   "name": "conda-env-ImageSegmentation-py",
   "language": "python",
   "display_name": "Python [conda env:ImageSegmentation] *"
  },
  "language_info": {
   "codemirror_mode": {
    "name": "ipython",
    "version": 2
   },
   "file_extension": ".py",
   "mimetype": "text/x-python",
   "name": "python",
   "nbconvert_exporter": "python",
   "pygments_lexer": "ipython2",
   "version": "2.7.6"
  }
 },
 "nbformat": 4,
 "nbformat_minor": 0
}