{
 "cells": [
  {
   "cell_type": "code",
   "execution_count": 85,
   "metadata": {
    "collapsed": true
   },
   "outputs": [
    {
     "name": "stdout",
     "output_type": "stream",
     "text": [
      "in init\n",
      "HUH?\n"
     ]
    }
   ],
   "source": [
    "import numpy as np\n",
    "import cv2\n",
    "import os\n",
    "from  Scripts.Utility import Utility2\n",
    "util = Utility2()\n",
    "\n",
    "util.Test()"
   ]
  },
  {
   "cell_type": "markdown",
   "source": [
    "### Compare zoom levels of same image\n",
    "\n",
    "Using the same position, compare all three zoom-levels"
   ],
   "metadata": {
    "collapsed": false,
    "pycharm": {
     "name": "#%% md\n"
    }
   }
  },
  {
   "cell_type": "code",
   "execution_count": 86,
   "outputs": [],
   "source": [
    "root_dir = os.path.abspath(\"../\")\n",
    "path= '/Scripts/TestImages' #skal have '/' før Scripts\n",
    "\n",
    "images= util.loadImages(path)\n",
    "unaltered_images = util.loadImages(path)\n",
    "\n",
    "gray_images = []\n",
    "tresh_images = []\n",
    "for x in range(len(images)):\n",
    "    gray_images.append(cv2.cvtColor(images[x], cv2.COLOR_BGR2GRAY))\n",
    "\n",
    "tresh_images = util.thresholdImages(gray_images, invert=False)\n",
    "cv2.imwrite(\"Tresholded_channel.jpg\",tresh_images[4] )\n",
    "cv2.imwrite(\"FluorescentInput.jpg\", images[4])\n",
    "\n",
    "#fluorescent is 0,2,4\n",
    "pairs = []\n",
    "\n",
    "_merge = cv2.addWeighted(gray_images[1], 0.5, tresh_images[0],0.5, 0.0)\n",
    "pairs.append(_merge)"
   ],
   "metadata": {
    "collapsed": false,
    "pycharm": {
     "name": "#%%\n"
    }
   }
  },
  {
   "cell_type": "code",
   "execution_count": 95,
   "outputs": [
    {
     "ename": "ValueError",
     "evalue": "cannot reshape array of size 4194304 into shape (2048,2048,3)",
     "output_type": "error",
     "traceback": [
      "\u001B[1;31m---------------------------------------------------------------------------\u001B[0m",
      "\u001B[1;31mValueError\u001B[0m                                Traceback (most recent call last)",
      "\u001B[1;32m<ipython-input-95-14d88995b56a>\u001B[0m in \u001B[0;36m<module>\u001B[1;34m\u001B[0m\n\u001B[0;32m     51\u001B[0m \u001B[1;33m\u001B[0m\u001B[0m\n\u001B[0;32m     52\u001B[0m \u001B[1;32mfor\u001B[0m \u001B[0mx\u001B[0m \u001B[1;32min\u001B[0m \u001B[0mrange\u001B[0m\u001B[1;33m(\u001B[0m\u001B[1;36m2\u001B[0m\u001B[1;33m)\u001B[0m\u001B[1;33m:\u001B[0m\u001B[1;33m\u001B[0m\u001B[1;33m\u001B[0m\u001B[0m\n\u001B[1;32m---> 53\u001B[1;33m     \u001B[0mcollection\u001B[0m\u001B[1;33m[\u001B[0m\u001B[0mx\u001B[0m\u001B[1;33m]\u001B[0m\u001B[1;33m.\u001B[0m\u001B[0mreshape\u001B[0m\u001B[1;33m(\u001B[0m\u001B[1;36m2048\u001B[0m\u001B[1;33m,\u001B[0m\u001B[1;36m2048\u001B[0m\u001B[1;33m,\u001B[0m\u001B[1;36m3\u001B[0m\u001B[1;33m)\u001B[0m\u001B[1;33m\u001B[0m\u001B[1;33m\u001B[0m\u001B[0m\n\u001B[0m\u001B[0;32m     54\u001B[0m     \u001B[0mprint\u001B[0m\u001B[1;33m(\u001B[0m\u001B[0mcollection\u001B[0m\u001B[1;33m[\u001B[0m\u001B[0mx\u001B[0m\u001B[1;33m]\u001B[0m\u001B[1;33m.\u001B[0m\u001B[0mshape\u001B[0m\u001B[1;33m)\u001B[0m\u001B[1;33m\u001B[0m\u001B[1;33m\u001B[0m\u001B[0m\n\u001B[0;32m     55\u001B[0m \u001B[1;33m\u001B[0m\u001B[0m\n",
      "\u001B[1;31mValueError\u001B[0m: cannot reshape array of size 4194304 into shape (2048,2048,3)"
     ]
    }
   ],
   "source": [
    "# noise removal\n",
    "kernel = np.ones((3,3),np.uint8)\n",
    "opening = cv2.morphologyEx(tresh_images[0],cv2.MORPH_OPEN,kernel, iterations = 2)\n",
    "# sure background area\n",
    "sure_bg = cv2.dilate(opening,kernel,iterations=3)\n",
    "#cv2.imshow(\"sure_bg0\",cv2.resize(tresh_images[0],(500,500)))\n",
    "#cv2.imshow(\"sure_bg\",cv2.resize(sure_bg,(500,500)))\n",
    "\n",
    "# Finding sure foreground area\n",
    "dist_transform = cv2.distanceTransform(opening,cv2.DIST_L2,5)\n",
    "ret, sure_fg = cv2.threshold(dist_transform,0.7*dist_transform.max(),255,0)\n",
    "# Finding unknown region\n",
    "sure_fg = np.uint8(sure_fg)\n",
    "unknown = cv2.subtract(sure_bg,sure_fg)\n",
    "#cv2.imshow(\"unknown\",cv2.resize(unknown,(500,500)))\n",
    "# Marker labelling\n",
    "num_markers, markers = cv2.connectedComponents(tresh_images[4])\n",
    "#cv2.imshow(\"markers\",markers)\n",
    "# Add one to all labels so that sure background is not 0, but 1\n",
    "#markers = markers+1\n",
    "## Now, mark the region of unknown with zero\n",
    "#markers[unknown==255] = 0\n",
    "#\n",
    "test_img = images[5]\n",
    "#cv2.imshow(\"burde være sort/hvid\", cv2.resize(images[1],(500,500)))\n",
    "\n",
    "#\n",
    "#markers = cv2.watershed(test_img,markers)\n",
    "\n",
    "# Markers: 0 is Bacground\n",
    "test_img[markers == 1] = [255,0,0] #BLUE  1: top right blob\n",
    "test_img[markers == 18] = [0,255,0] # GREEN  10 big blob (18)\n",
    "test_img[markers == 49] = [0,0,255] # RED 6: left most blob (49)\n",
    "\n",
    "#cv2.imshow(\"TestLabeling0\", cv2.resize(test_img,(500,500)))\n",
    "#cv2.imwrite(\"LabeledImage.jpg\", test_img)\n",
    "\n",
    "\n",
    "alpha = 0.5\n",
    "beta = 1-alpha\n",
    "test2 = cv2.addWeighted(test_img,alpha,unaltered_images[5],beta,0.0)\n",
    "#cv2.imshow(\"Test\", cv2.resize(test_img,(500,500)))\n",
    "#cv2.imshow(\"Original\", cv2.resize(unaltered_images[5],(500,500)))\n",
    "#cv2.imshow(\"TestMerge\", cv2.resize(test2,(500,500)))\n",
    "#cv2.imwrite(\"LabeledMerge2.jpg\", test2)\n",
    "\n",
    "\n",
    "collection = [gray_images[4], tresh_images[4],test2 ]\n",
    "col2 = []\n",
    "\n",
    "billede= util.h_concatenate_images(col2)\n",
    "\n",
    "util.showImages(collection, scale=(500,500))"
   ],
   "metadata": {
    "collapsed": false,
    "pycharm": {
     "name": "#%%\n"
    }
   }
  },
  {
   "cell_type": "code",
   "execution_count": null,
   "outputs": [],
   "source": [
    "#im2, contours, hierarchy = cv2.findContours(test_img, cv2.RETR_TREE, cv2.CHAIN_APPROX_SIMPLE)"
   ],
   "metadata": {
    "collapsed": false,
    "pycharm": {
     "name": "#%%\n"
    }
   }
  },
  {
   "cell_type": "code",
   "execution_count": null,
   "outputs": [],
   "source": [
    "import matplotlib.pyplot as plt\n",
    "plt.imshow(markers)\n",
    "plt.show()"
   ],
   "metadata": {
    "collapsed": false,
    "pycharm": {
     "name": "#%%\n"
    }
   }
  },
  {
   "cell_type": "code",
   "execution_count": null,
   "outputs": [],
   "source": [
    "blarg = False\n",
    "\n",
    "\n",
    "if blarg is False:\n",
    "    print(\"None is false\")"
   ],
   "metadata": {
    "collapsed": false,
    "pycharm": {
     "name": "#%%\n"
    }
   }
  }
 ],
 "metadata": {
  "kernelspec": {
   "name": "conda-env-ImageSegmentation-py",
   "language": "python",
   "display_name": "Python [conda env:ImageSegmentation] *"
  },
  "language_info": {
   "codemirror_mode": {
    "name": "ipython",
    "version": 2
   },
   "file_extension": ".py",
   "mimetype": "text/x-python",
   "name": "python",
   "nbconvert_exporter": "python",
   "pygments_lexer": "ipython2",
   "version": "2.7.6"
  }
 },
 "nbformat": 4,
 "nbformat_minor": 0
}