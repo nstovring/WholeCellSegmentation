{
 "cells": [
  {
   "cell_type": "code",
   "execution_count": 2,
   "metadata": {
    "collapsed": true
   },
   "outputs": [
    {
     "name": "stdout",
     "output_type": "stream",
     "text": [
      "in init\n"
     ]
    }
   ],
   "source": [
    "import numpy as np\n",
    "import cv2\n",
    "import os\n",
    "from  Scripts.Utility import Utility2\n",
    "util = Utility2()\n",
    "\n",
    "root_dir = os.path.abspath(\"../\")\n",
    "\n",
    "imagePath = \"/Input/Images\"\n",
    "images = util.loadImages(imagePath)\n",
    "util.showImages(images)"
   ]
  },
  {
   "cell_type": "code",
   "execution_count": 51,
   "outputs": [
    {
     "name": "stdout",
     "output_type": "stream",
     "text": [
      "(51, 408) (2048, 16384, 3)\n",
      "(2048, 256, 3) shape\n"
     ]
    }
   ],
   "source": [
    "#eqImages, smoothImages, final_image, filterValues = util.processImage(images[1])\n",
    "\n",
    "filters = util.show_filters()\n",
    "#util.showImages([filters], scale=(800,100))\n",
    "fimgArr = util.gabor_filter_image(images[1])\n",
    "filterConcat = util.h_concatenate_images(fimgArr)\n",
    "#util.showImages([filterConcat], scale=(800,100))\n",
    "print(filters.shape, filterConcat.shape)\n",
    "filters = cv2.resize(filters,(256,2048 ))\n",
    "filterConcat = cv2.resize(filterConcat,(256,2048 ))\n",
    "\n",
    "#\n",
    "#\n",
    "I = cv2.normalize(filters, None, 0, 255, cv2.NORM_MINMAX, cv2.CV_8U)\n",
    "emptyChannel = np.zeros_like(I)\n",
    "\n",
    "filters3 = cv2.merge([I,I,I])\n",
    "print(filters3.shape, \"shape\")"
   ],
   "metadata": {
    "collapsed": false,
    "pycharm": {
     "name": "#%%\n"
    }
   }
  },
  {
   "cell_type": "code",
   "execution_count": 52,
   "outputs": [],
   "source": [
    "#filters3 = cv2.cvtColor(filters3, cv2.COLOR_BGR2GRAY)\n",
    "\n",
    "util.showImages([I], scale=(800,100))\n",
    "util.showImages([filters3], scale=(800,100))\n",
    "Combined = util.v_concatenate_images([filters3,filterConcat])\n",
    "util.showImages([Combined], scale=(800,200))\n",
    "util.writeImages([Combined], scale=(2048,256), titles=[\"FiltersOnChannel\"])\n"
   ],
   "metadata": {
    "collapsed": false,
    "pycharm": {
     "name": "#%%\n"
    }
   }
  }
 ],
 "metadata": {
  "kernelspec": {
   "name": "conda-env-ImageSegmentation-py",
   "language": "python",
   "display_name": "Python [conda env:ImageSegmentation] *"
  },
  "language_info": {
   "codemirror_mode": {
    "name": "ipython",
    "version": 2
   },
   "file_extension": ".py",
   "mimetype": "text/x-python",
   "name": "python",
   "nbconvert_exporter": "python",
   "pygments_lexer": "ipython2",
   "version": "2.7.6"
  }
 },
 "nbformat": 4,
 "nbformat_minor": 0
}