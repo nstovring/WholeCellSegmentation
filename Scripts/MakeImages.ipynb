{
 "cells": [
  {
   "cell_type": "code",
   "execution_count": 2,
   "metadata": {
    "collapsed": true
   },
   "outputs": [
    {
     "name": "stdout",
     "output_type": "stream",
     "text": [
      "in init\n",
      "HUH?\n"
     ]
    }
   ],
   "source": [
    "import numpy as np\n",
    "import cv2\n",
    "import os\n",
    "from  Scripts.Utility import Utility2\n",
    "util = Utility2()\n",
    "util.Test()\n",
    "\n",
    "root_dir = os.path.abspath(\"../\")\n",
    "\n",
    "imagePath = \"/Input/Images\"\n",
    "images = util.loadImages(imagePath)\n"
   ]
  }
 ],
 "metadata": {
  "kernelspec": {
   "name": "conda-env-ImageSegmentation-py",
   "language": "python",
   "display_name": "Python [conda env:ImageSegmentation] *"
  },
  "language_info": {
   "codemirror_mode": {
    "name": "ipython",
    "version": 2
   },
   "file_extension": ".py",
   "mimetype": "text/x-python",
   "name": "python",
   "nbconvert_exporter": "python",
   "pygments_lexer": "ipython2",
   "version": "2.7.6"
  }
 },
 "nbformat": 4,
 "nbformat_minor": 0
}